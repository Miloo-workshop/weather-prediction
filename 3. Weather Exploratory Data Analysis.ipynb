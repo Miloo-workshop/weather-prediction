{
 "cells": [
  {
   "cell_type": "markdown",
   "metadata": {
    "id": "ONBSMDwqOG5N"
   },
   "source": [
    "# Exploratory Data Analysis on Weather Data \n",
    "This is module of Miloo Workshop : BOOTCAMP CYCLING PREDICTION-ARTIFICIAL INTELLIGENCE. \n",
    "\n",
    "This module will give example of how to do analysis on weather data start from install and importing required library, transforming data, and make visualization to help getting insight on weather data.\n",
    "\n",
    "Please refer to this link for more info regarding the dataset : https://www.kaggle.com/selfishgene/historical-hourly-weather-data"
   ]
  },
  {
   "cell_type": "markdown",
   "metadata": {
    "id": "ePs2bU_NOG5S"
   },
   "source": [
    "# 1. Install and Import Required Library\n",
    "\n",
    "For this Exploratory Data Analysis, we use pandas, seaborn, matplotlib, datetime, and haversine"
   ]
  },
  {
   "cell_type": "code",
   "execution_count": null,
   "metadata": {
    "colab": {
     "base_uri": "https://localhost:8080/"
    },
    "id": "9fJEljIIpqnX",
    "outputId": "fcc921de-9fe6-441d-d34c-d0c81bb98c22"
   },
   "outputs": [],
   "source": [
    "!pip install haversine"
   ]
  },
  {
   "cell_type": "code",
   "execution_count": null,
   "metadata": {
    "colab": {
     "base_uri": "https://localhost:8080/",
     "height": 17
    },
    "id": "mnHHjFVEpfVh",
    "outputId": "35ec65dd-5c8f-44ef-bb8d-a72ec07db32b"
   },
   "outputs": [],
   "source": [
    "import pandas as pd \n",
    "import matplotlib.pyplot as plt\n",
    "%matplotlib inline\n",
    "import datetime as dt\n",
    "\n",
    "import seaborn as sns \n",
    "from haversine import haversine, Unit\n",
    "\n",
    "from IPython.core.display import display, HTML\n",
    "display(HTML(\"<style>.container { width:100% !important; }</style>\"))"
   ]
  },
  {
   "cell_type": "markdown",
   "metadata": {
    "id": "Fr1YrZO9OG5X"
   },
   "source": [
    "# 2. Transform Data \n",
    "\n",
    "For this section, we transform and merge data from many .csv file into 1 DataFrame. We will do 2 process :\n",
    "1. Expand Time : transform data date into year, month. year, day, hour, and day name using datetime library\n",
    "2. Get Specific City Data : we will compare 2 city so we need to filter the data to get only specific city data"
   ]
  },
  {
   "cell_type": "markdown",
   "metadata": {
    "id": "WqnirD8QOG5Y"
   },
   "source": [
    "## 2.1 Define Expand Time Function"
   ]
  },
  {
   "cell_type": "code",
   "execution_count": null,
   "metadata": {
    "id": "AJd3TMqEpfVk"
   },
   "outputs": [],
   "source": [
    "def expand_time(input_df,time_col):\n",
    "    # enrich more time elements\n",
    "    input_df['datetime'] = pd.to_datetime(input_df[time_col])\n",
    "    input_df['year'] =  input_df['datetime'].dt.year\n",
    "    input_df['month'] =  input_df['datetime'].dt.year * 100 + input_df['datetime'].dt.month\n",
    "    input_df['day'] =  input_df['datetime'].dt.year * 10000 + input_df['datetime'].dt.month * 100 + input_df['datetime'].dt.day\n",
    "    input_df['hour'] =  input_df['datetime'].dt.hour\n",
    "    input_df['dayname'] = input_df['datetime'].apply(lambda x: dt.datetime.strftime(x, '%A'))\n",
    "    \n",
    "    return input_df"
   ]
  },
  {
   "cell_type": "markdown",
   "metadata": {
    "id": "4vqd09L2OG5a"
   },
   "source": [
    "## 2.2 Define Filter Specific City Data Function"
   ]
  },
  {
   "cell_type": "code",
   "execution_count": null,
   "metadata": {
    "id": "6SstErkxpfVk"
   },
   "outputs": [],
   "source": [
    "def get_one_sity(city, humidity, wind_speed, wind_dir, press, weat, temp):\n",
    "\n",
    "    # bring all weather elemnts to one city\n",
    "    \n",
    "    # humidity\n",
    "    df_sample = pd.merge(humidity[[city,'day','hour','dayname']],weat[[city,'day','hour']],how='inner', left_on=['day','hour'],right_on=['day','hour'])\n",
    "    df_sample = df_sample.dropna()\n",
    "    df_sample.columns = ['humidity','day','hour','dayname','weather']\n",
    "\n",
    "    # temperature\n",
    "    df_sample = pd.merge(df_sample,temp[[city,'day','hour','dayname']],how='inner', left_on=['day','hour'],right_on=['day','hour'])\n",
    "    df_sample = df_sample.dropna()\n",
    "    df_sample.drop('dayname_y',inplace=True,axis=1)\n",
    "    df_sample.columns = ['humidity','day','hour','dayname','weather','temperature']\n",
    "    df_sample['temperature'] = df_sample['temperature']-273.15 # convert from kelvin to celcius \n",
    "\n",
    "    # pressure\n",
    "    df_sample = pd.merge(df_sample,press[[city,'day','hour','dayname']],how='inner', left_on=['day','hour'],right_on=['day','hour'])\n",
    "    df_sample = df_sample.dropna()\n",
    "    df_sample.drop('dayname_y',inplace=True,axis=1)\n",
    "    df_sample.columns = ['humidity','day','hour','dayname','weather','temperature','pressure']\n",
    "\n",
    "    # wind speed\n",
    "    df_sample = pd.merge(df_sample,wind_speed[[city,'day','hour','dayname']],how='inner', left_on=['day','hour'],right_on=['day','hour'])\n",
    "    df_sample = df_sample.dropna()\n",
    "    df_sample.drop('dayname_y',inplace=True,axis=1)\n",
    "    df_sample.columns = ['humidity','day','hour','dayname','weather','temperature','pressure', 'wind_speed']\n",
    "\n",
    "    # wind dir\n",
    "    df_sample = pd.merge(df_sample,wind_dir[[city,'day','hour','dayname']],how='inner', left_on=['day','hour'],right_on=['day','hour'])\n",
    "    df_sample = df_sample.dropna()\n",
    "    df_sample.drop('dayname_y',inplace=True,axis=1)\n",
    "    df_sample.columns = ['humidity','day','hour','dayname','weather','temperature','pressure', 'wind_speed','wind_dir']\n",
    "\n",
    "    # rearrange column\n",
    "    df_sample = df_sample[['day','hour','weather','dayname','humidity','temperature','pressure','wind_speed','wind_dir']]\n",
    "    \n",
    "    \n",
    "    # simplified weather \n",
    "    # change weather granularity\n",
    "\n",
    "    df_sample['weather2'] = df_weat.replace({city: dict_weather})[city]\n",
    "\n",
    "    return df_sample"
   ]
  },
  {
   "cell_type": "markdown",
   "metadata": {
    "id": "_o8o-MG8OG5d"
   },
   "source": [
    "## 2.3 Read all CSV files\n",
    "in this sub-section, we download dataset from github and load it to jupyter notebook"
   ]
  },
  {
   "cell_type": "code",
   "execution_count": null,
   "metadata": {
    "colab": {
     "base_uri": "https://localhost:8080/"
    },
    "id": "2Jq-itpqRU6e",
    "outputId": "f6d02a0d-7bf9-4fb3-fb95-e7a74f7ea245"
   },
   "outputs": [],
   "source": [
    "!wget https://raw.githubusercontent.com/Miloo-workshop/weather-prediction/main/data_archive.zip"
   ]
  },
  {
   "cell_type": "code",
   "execution_count": null,
   "metadata": {
    "colab": {
     "base_uri": "https://localhost:8080/"
    },
    "id": "rq6CObPopXyb",
    "outputId": "f2774a32-9de1-4769-d715-0d686767d8a4"
   },
   "outputs": [],
   "source": [
    "!unzip data_archive.zip"
   ]
  },
  {
   "cell_type": "code",
   "execution_count": null,
   "metadata": {
    "id": "jYR76X_TpfVl"
   },
   "outputs": [],
   "source": [
    "df_hum = pd.read_csv('archive/humidity.csv')\n",
    "df_wind_dir = pd.read_csv('archive/wind_direction.csv')\n",
    "df_wind_sp = pd.read_csv('archive/wind_speed.csv')\n",
    "df_pres = pd.read_csv('archive/pressure.csv')\n",
    "df_temp = pd.read_csv('archive/temperature.csv')\n",
    "df_weat = pd.read_csv('archive/weather_description.csv')\n",
    "df_city = pd.read_csv('archive/city_attributes.csv')\n",
    "df_weat_sim = pd.read_excel('archive/weather_category_simplified.xlsx')\n",
    "df_weat_sim.drop('count',axis=1,inplace=True)\n",
    "\n",
    "dict_weather = {}"
   ]
  },
  {
   "cell_type": "markdown",
   "metadata": {
    "id": "boIh81wnOG5e"
   },
   "source": [
    "## 2.4 Convert data to dict "
   ]
  },
  {
   "cell_type": "code",
   "execution_count": null,
   "metadata": {
    "id": "8ps9Wev_pfVl"
   },
   "outputs": [],
   "source": [
    "for index, row in df_weat_sim.iterrows():\n",
    "    dict_weather[row['weather']] = row['weather2']"
   ]
  },
  {
   "cell_type": "markdown",
   "metadata": {
    "id": "Ee7XitI7OG5e"
   },
   "source": [
    "## 2.5 Expand time column"
   ]
  },
  {
   "cell_type": "code",
   "execution_count": null,
   "metadata": {
    "id": "69XN1QyepfVm"
   },
   "outputs": [],
   "source": [
    "df_hum = expand_time(df_hum,'datetime')\n",
    "df_wind_dir = expand_time(df_wind_dir,'datetime')\n",
    "df_wind_sp = expand_time(df_wind_sp,'datetime')\n",
    "df_pres = expand_time(df_pres,'datetime')\n",
    "df_weat = expand_time(df_weat,'datetime')\n",
    "df_temp = expand_time(df_temp,'datetime')"
   ]
  },
  {
   "cell_type": "markdown",
   "metadata": {
    "id": "P0utlfxFOG5g"
   },
   "source": [
    "## 2.6 Filter Selected City : Miami and Vancouver"
   ]
  },
  {
   "cell_type": "code",
   "execution_count": null,
   "metadata": {
    "id": "RxPZ6v8lpfVm"
   },
   "outputs": [],
   "source": [
    "df_miami = get_one_sity(city='Miami',humidity = df_hum, wind_speed = df_wind_sp, wind_dir = df_wind_dir, press = df_pres, weat = df_weat, temp = df_temp)\n",
    "df_vancouver = get_one_sity(city='Vancouver',humidity = df_hum, wind_speed = df_wind_sp, wind_dir = df_wind_dir, press = df_pres, weat = df_weat, temp = df_temp)"
   ]
  },
  {
   "cell_type": "code",
   "execution_count": null,
   "metadata": {
    "colab": {
     "base_uri": "https://localhost:8080/",
     "height": 206
    },
    "id": "e1WlFTOv-lNd",
    "outputId": "dcdb5469-3db6-4f43-aec1-02a49eae310c"
   },
   "outputs": [],
   "source": [
    "df_miami.head()"
   ]
  },
  {
   "cell_type": "code",
   "execution_count": null,
   "metadata": {
    "colab": {
     "base_uri": "https://localhost:8080/"
    },
    "id": "vU-D1MuepfVm",
    "outputId": "f134b8b7-6e01-4dea-8063-b19c48121c45"
   },
   "outputs": [],
   "source": [
    "df_miami.shape, df_vancouver.shape"
   ]
  },
  {
   "cell_type": "markdown",
   "metadata": {
    "id": "hgKZ13HXOG5i"
   },
   "source": [
    "# 3 Exploratory Data Analysis\n",
    "In this section, we will explore and compare the data in both city (Miami and Vancouver) based on selected feature like Humidity, temperature, wind speed, pressure, etc. We will use various visualization to make the difference easiy understandable"
   ]
  },
  {
   "cell_type": "markdown",
   "metadata": {
    "id": "5Vyr_VvNpfVn"
   },
   "source": [
    "## 3.1 check data consistency \n",
    "We will check the completeness hour of daily data in both cities and visualize it to know how many date which have no complete hour data"
   ]
  },
  {
   "cell_type": "code",
   "execution_count": null,
   "metadata": {
    "colab": {
     "base_uri": "https://localhost:8080/",
     "height": 682
    },
    "id": "-mh9zg8CpfVn",
    "outputId": "bd956199-0d69-42a4-f8cb-516fecb3c96c"
   },
   "outputs": [],
   "source": [
    "plt.rcParams['figure.figsize'] = [12, 8]\n",
    "plt.rcParams['figure.dpi'] = 100 # 200 e.g. is really fine, but slower\n",
    "df_miami.groupby(['day']).agg({'hour':'count'}).reset_index()['hour'].hist(bins = 50)"
   ]
  },
  {
   "cell_type": "code",
   "execution_count": null,
   "metadata": {
    "colab": {
     "base_uri": "https://localhost:8080/"
    },
    "id": "gLcFOxxHpfVn",
    "outputId": "571f32bf-edab-414e-f0f8-2497b6c31715"
   },
   "outputs": [],
   "source": [
    "df_miami.groupby(['day']).agg({'hour':'count'}).reset_index()['hour'].value_counts(ascending=False)"
   ]
  },
  {
   "cell_type": "code",
   "execution_count": null,
   "metadata": {
    "colab": {
     "base_uri": "https://localhost:8080/",
     "height": 683
    },
    "id": "ksj2kVsKpfVo",
    "outputId": "06c00eac-1316-4ef1-979c-496cb62faa2c"
   },
   "outputs": [],
   "source": [
    "plt.rcParams['figure.figsize'] = [12, 8]\n",
    "plt.rcParams['figure.dpi'] = 100 # 200 e.g. is really fine, but slower\n",
    "df_vancouver.groupby(['day']).agg({'hour':'count'}).reset_index()['hour'].hist(bins = 50)"
   ]
  },
  {
   "cell_type": "code",
   "execution_count": null,
   "metadata": {
    "colab": {
     "base_uri": "https://localhost:8080/"
    },
    "id": "XlaQAL4tpfVo",
    "outputId": "0e085ae0-d0e9-45f5-ccd1-63da9b908576"
   },
   "outputs": [],
   "source": [
    "df_vancouver.groupby(['day']).agg({'hour':'count'}).reset_index()['hour'].value_counts().sort_values(ascending=False)"
   ]
  },
  {
   "cell_type": "markdown",
   "metadata": {
    "id": "heI33xYjOG5l"
   },
   "source": [
    "## 3.2 join both date to get balance granularity "
   ]
  },
  {
   "cell_type": "code",
   "execution_count": null,
   "metadata": {
    "id": "5P0GzCubpfVo"
   },
   "outputs": [],
   "source": [
    "df_inner = pd.merge(df_miami[['day','hour']],df_vancouver[['day','hour']],'inner',left_on=['day','hour'],right_on=['day','hour'])\n",
    "df_inner.columns = ['inner_day','inner_hour']\n",
    "\n",
    "df_miami = pd.merge(df_inner, df_miami, 'inner',right_on=['day','hour'],left_on=['inner_day','inner_hour'])\n",
    "df_miami = df_miami.drop(['day','hour'],axis=1)\n",
    "df_miami = df_miami.rename(columns={\"inner_hour\": \"hour\", \"inner_day\": \"day\"})\n",
    "\n",
    "\n",
    "df_vancouver = pd.merge(df_inner, df_vancouver, 'inner',right_on=['day','hour'],left_on=['inner_day','inner_hour'])\n",
    "df_vancouver = df_vancouver.drop(['day','hour'],axis=1)\n",
    "df_vancouver = df_vancouver.rename(columns={\"inner_hour\": \"hour\", \"inner_day\": \"day\"})"
   ]
  },
  {
   "cell_type": "code",
   "execution_count": null,
   "metadata": {
    "colab": {
     "base_uri": "https://localhost:8080/"
    },
    "id": "3CkWoeofpfVp",
    "outputId": "365b20cb-ee00-47d8-f571-252bda49f575"
   },
   "outputs": [],
   "source": [
    "df_inner.shape, df_miami.shape, df_vancouver.shape"
   ]
  },
  {
   "cell_type": "markdown",
   "metadata": {
    "id": "39CyJDBtpfVp"
   },
   "source": [
    "## 3.3 Explore & Compare Data : Temperature\n",
    "We will explore differences between Miami and Vancouver based on temperature data and will show distribution of temperature, daily, and monthly data"
   ]
  },
  {
   "cell_type": "code",
   "execution_count": null,
   "metadata": {
    "id": "c0QiMqDOpfVp"
   },
   "outputs": [],
   "source": [
    "df_temp_m = pd.DataFrame()\n",
    "df_temp_m['temperature'] = df_miami['temperature']\n",
    "df_temp_m['city'] = 'miami'\n",
    "\n",
    "df_temp_v = pd.DataFrame()\n",
    "df_temp_v['temperature'] = df_vancouver['temperature']\n",
    "df_temp_v['city'] = 'vancouver'\n",
    "\n",
    "df_temp_mv = pd.concat([df_temp_m,df_temp_v])\n",
    "df_temp_mv['temperature'] = df_temp_mv['temperature'].astype(float)"
   ]
  },
  {
   "cell_type": "code",
   "execution_count": null,
   "metadata": {
    "colab": {
     "base_uri": "https://localhost:8080/",
     "height": 206
    },
    "id": "qUkR1GkN_rLS",
    "outputId": "7fa33039-3355-48fc-b92f-48ec2c51fc3c"
   },
   "outputs": [],
   "source": [
    "df_temp_mv.tail()"
   ]
  },
  {
   "cell_type": "markdown",
   "metadata": {
    "id": "j3OseBhDOG5o"
   },
   "source": [
    "### 3.3.1 Compare distribution of temperature data of both cities"
   ]
  },
  {
   "cell_type": "code",
   "execution_count": null,
   "metadata": {
    "colab": {
     "base_uri": "https://localhost:8080/",
     "height": 702
    },
    "id": "iettBD_5pfVp",
    "outputId": "da93b152-f4a3-4680-d147-61e907c5db0c"
   },
   "outputs": [],
   "source": [
    "plt.rcParams['figure.figsize'] = [12, 8]\n",
    "plt.rcParams['figure.dpi'] = 100 # 200 e.g. is really fine, but slower\n",
    "sns.histplot(data=df_temp_mv, x=\"temperature\", hue='city')"
   ]
  },
  {
   "cell_type": "markdown",
   "metadata": {
    "id": "S13VPEhYOG5p"
   },
   "source": [
    "### 3.3.2 Compare average temperature of each month\n",
    "This sub-section will explore the change of average temperature of each month in every year"
   ]
  },
  {
   "cell_type": "code",
   "execution_count": null,
   "metadata": {
    "colab": {
     "base_uri": "https://localhost:8080/",
     "height": 1000
    },
    "id": "4UT0jpD3pfVp",
    "outputId": "3edf2388-8af0-47ed-ee63-2c99e570623d"
   },
   "outputs": [],
   "source": [
    "# miami\n",
    "\n",
    "df_miami_temp = df_miami[['temperature','dayname','hour','day']]\n",
    "df_miami_temp['dateime'] = df_miami_temp['day'].apply(lambda x: pd.to_datetime(str(x), format='%Y%m%d'))\n",
    "df_miami_temp['month'] = df_miami_temp['dateime'].dt.month_name()\n",
    "df_miami_temp['year'] = df_miami_temp['dateime'].dt.year\n",
    "\n",
    "#agg houly\n",
    "df_miami_temp_hourly = df_miami_temp[['year','month','temperature']].groupby(['year','month']).agg({'temperature':'mean'}).reset_index()\n",
    "df_miami_temp_hourly_pivot = df_miami_temp_hourly.pivot(index='year', columns='month', values='temperature').fillna(0)\n",
    "\n",
    "sns.lineplot(data=df_miami_temp_hourly, x=\"year\", y=\"temperature\", hue=\"month\")"
   ]
  },
  {
   "cell_type": "code",
   "execution_count": null,
   "metadata": {
    "colab": {
     "base_uri": "https://localhost:8080/",
     "height": 1000
    },
    "id": "dl7EJwZXpfVq",
    "outputId": "96714ca6-fa1d-465c-88b5-b12d8fbebcf8"
   },
   "outputs": [],
   "source": [
    "# vancouver\n",
    "\n",
    "df_van_temp = df_vancouver[['temperature','dayname','hour','day']]\n",
    "df_van_temp['dateime'] = df_van_temp['day'].apply(lambda x: pd.to_datetime(str(x), format='%Y%m%d'))\n",
    "df_van_temp['month'] = df_van_temp['dateime'].dt.month_name()\n",
    "df_van_temp['year'] = df_van_temp['dateime'].dt.year\n",
    "\n",
    "#agg houly\n",
    "df_van_temp_hourly = df_van_temp[['year','month','temperature']].groupby(['year','month']).agg({'temperature':'mean'}).reset_index()\n",
    "df_van_temp_hourly_pivot = df_van_temp_hourly.pivot(index='year', columns='month', values='temperature').fillna(0)\n",
    "\n",
    "sns.lineplot(data=df_van_temp_hourly, x=\"year\", y=\"temperature\", hue=\"month\")"
   ]
  },
  {
   "cell_type": "markdown",
   "metadata": {
    "id": "WNQLnsezOG5r"
   },
   "source": [
    "### 3.3.3 Annual trend"
   ]
  },
  {
   "cell_type": "code",
   "execution_count": null,
   "metadata": {
    "colab": {
     "base_uri": "https://localhost:8080/",
     "height": 702
    },
    "id": "QyPadcELpfVq",
    "outputId": "0e153d49-4957-46b7-cc03-967e0ca7fb8a",
    "scrolled": false
   },
   "outputs": [],
   "source": [
    "df_van_ann_temp = pd.DataFrame()\n",
    "df_van_ann_temp['year'] = df_vancouver['day'].apply(lambda x:str(x)[:4])\n",
    "df_van_ann_temp['day'] = df_vancouver['day']\n",
    "df_van_ann_temp['temperature'] = df_vancouver['temperature']\n",
    "df_van_ann_temp = df_van_ann_temp[df_van_ann_temp['year']=='2015']\n",
    "df_van_ann_temp_agg = df_van_ann_temp[['day','temperature']].groupby('day').agg({'temperature':'mean'}).reset_index()\n",
    "df_van_ann_temp_agg['dateime'] = df_van_ann_temp_agg['day'].apply(lambda x: pd.to_datetime(str(x), format='%Y%m%d'))\n",
    "df_van_ann_temp_agg['city'] = 'vancouver'\n",
    "\n",
    "df_mia_ann_temp = pd.DataFrame()\n",
    "df_mia_ann_temp['year'] = df_miami['day'].apply(lambda x:str(x)[:4])\n",
    "df_mia_ann_temp['day'] = df_miami['day']\n",
    "df_mia_ann_temp['temperature'] = df_miami['temperature']\n",
    "df_mia_ann_temp = df_mia_ann_temp[df_mia_ann_temp['year']=='2015']\n",
    "df_mia_ann_temp_agg = df_mia_ann_temp[['day','temperature']].groupby('day').agg({'temperature':'mean'}).reset_index()\n",
    "df_mia_ann_temp_agg['dateime'] = df_mia_ann_temp_agg['day'].apply(lambda x: pd.to_datetime(str(x), format='%Y%m%d'))\n",
    "df_mia_ann_temp_agg['city'] = 'miami'\n",
    "\n",
    "df_ann_temp = pd.concat([df_mia_ann_temp_agg,df_van_ann_temp_agg],axis=0)\n",
    "\n",
    "sns.lineplot(data=df_ann_temp, x=\"dateime\", y=\"temperature\",hue='city')"
   ]
  },
  {
   "cell_type": "markdown",
   "metadata": {
    "id": "Au5mPgz9OG5t"
   },
   "source": [
    "### 3.3.4 Boxplot to compare temperature's distribution and skewness for both Miami and Vancouver"
   ]
  },
  {
   "cell_type": "code",
   "execution_count": null,
   "metadata": {
    "colab": {
     "base_uri": "https://localhost:8080/",
     "height": 702
    },
    "id": "49sNDCG4pfVq",
    "outputId": "02540380-516d-44a5-afd8-58db9e8c3849"
   },
   "outputs": [],
   "source": [
    "df_miami_2 = df_miami.drop(['weather','weather2','dayname'],axis=1).melt(id_vars=[\"day\", \"hour\"], \n",
    "        var_name=\"type\", \n",
    "        value_name=\"value\")\n",
    "df_miami_2['city'] = 'miami'\n",
    "\n",
    "df_vancouver_2 = df_vancouver.drop(['weather','weather2','dayname'],axis=1).melt(id_vars=[\"day\", \"hour\"], \n",
    "        var_name=\"type\", \n",
    "        value_name=\"value\")\n",
    "df_vancouver_2['city'] = 'vancouver'\n",
    "\n",
    "df_van_miami_2 = pd.concat([df_miami_2, df_vancouver_2])\n",
    "\n",
    "sns.boxplot(x=\"type\", y=\"value\", hue= 'city', data=df_van_miami_2[df_van_miami_2['type']=='temperature'])"
   ]
  },
  {
   "cell_type": "markdown",
   "metadata": {
    "id": "n-iU5U4DpfVq"
   },
   "source": [
    "## 3.4 Explore & Compare Data : Weather\n",
    "We will explore differences between Miami and Vancouver based on weather data, show show proportion of data and weather pattern of each city "
   ]
  },
  {
   "cell_type": "markdown",
   "metadata": {
    "id": "36Gexv76OG5u"
   },
   "source": [
    "### 3.4.1 weather proportion in both cities "
   ]
  },
  {
   "cell_type": "code",
   "execution_count": null,
   "metadata": {
    "colab": {
     "base_uri": "https://localhost:8080/",
     "height": 658
    },
    "id": "oP28r2cnpfVr",
    "outputId": "1374f264-c822-45f5-88bd-5ebe889ecc64"
   },
   "outputs": [],
   "source": [
    "plt.rcParams['figure.figsize'] = [12, 8]\n",
    "plt.rcParams['figure.dpi'] = 100 # 200 e.g. is really fine, but slower\n",
    "\n",
    "df_miami['weather2'].value_counts().plot.pie()\n",
    "# df.plot.pie(y='mass', figsize=(5, 5))"
   ]
  },
  {
   "cell_type": "code",
   "execution_count": null,
   "metadata": {
    "colab": {
     "base_uri": "https://localhost:8080/",
     "height": 658
    },
    "id": "ddMDRtW_pfVr",
    "outputId": "8bada0e0-947a-4807-d1d6-1bc5ff21b6eb"
   },
   "outputs": [],
   "source": [
    "plt.rcParams['figure.figsize'] = [12, 8]\n",
    "plt.rcParams['figure.dpi'] = 100 # 200 e.g. is really fine, but slower\n",
    "\n",
    "df_vancouver['weather2'].value_counts().plot.pie()"
   ]
  },
  {
   "cell_type": "markdown",
   "metadata": {
    "id": "4gxP5uuROG5w"
   },
   "source": [
    "### 3.4.2 Average rainfall pattern in one day for each month\n",
    "We will measure average of how many hour rain will fall in each month for Miami and Vancouver to find both cities pattern"
   ]
  },
  {
   "cell_type": "code",
   "execution_count": null,
   "metadata": {
    "colab": {
     "base_uri": "https://localhost:8080/"
    },
    "id": "hO2fgaS1pfVr",
    "outputId": "d3583b94-5843-4c5d-ef98-5ee1226cb23c"
   },
   "outputs": [],
   "source": [
    "# miami\n",
    "\n",
    "df_miami_rain = df_miami[['weather2','dayname','hour','day']]\n",
    "df_miami_rain['dateime'] = df_miami_rain['day'].apply(lambda x: pd.to_datetime(str(x), format='%Y%m%d'))\n",
    "df_miami_rain['month'] = df_miami_rain['dateime'].dt.month_name()\n",
    "df_miami_rain['year'] = df_miami_rain['dateime'].dt.year\n",
    "\n",
    "#agg houly\n",
    "df_miami_rain_hourly = df_miami_rain[['year','month','dayname','weather2','day','hour']].groupby(['year','month','dayname','day','weather2']).agg({'hour':'count'}).reset_index()\n",
    "df_miami_rain_hourly = df_miami_rain_hourly[df_miami_rain_hourly['weather2'] == 'rain']\n",
    "\n",
    "#agg daily\n",
    "df_miami_rain_daily = df_miami_rain_hourly[['month','dayname','hour']].groupby(['month','dayname']).agg({'hour':'mean'}).reset_index()\n",
    "\n",
    "df_miami_rain_daily_pivot = df_miami_rain_daily.pivot(index='month', columns='dayname', values='hour')"
   ]
  },
  {
   "cell_type": "code",
   "execution_count": null,
   "metadata": {
    "colab": {
     "base_uri": "https://localhost:8080/",
     "height": 701
    },
    "id": "LXVj1zh3pfVr",
    "outputId": "d0147b49-a3f5-490e-bbc6-2fe8c12f1ffa"
   },
   "outputs": [],
   "source": [
    "plt.rcParams['figure.figsize'] = [12, 8]\n",
    "plt.rcParams['figure.dpi'] = 100 # 200 e.g. is really fine, but slower\n",
    "sns.heatmap(df_miami_rain_daily_pivot, annot=True, cmap=\"YlGnBu\")"
   ]
  },
  {
   "cell_type": "code",
   "execution_count": null,
   "metadata": {
    "colab": {
     "base_uri": "https://localhost:8080/"
    },
    "id": "pPiqOR40pfVr",
    "outputId": "2f2041a1-4d30-4d5c-8a2f-31ebe900fb87"
   },
   "outputs": [],
   "source": [
    "# vancouver\n",
    "\n",
    "df_van_rain = df_vancouver[['weather2','dayname','hour','day']]\n",
    "df_van_rain['dateime'] = df_van_rain['day'].apply(lambda x: pd.to_datetime(str(x), format='%Y%m%d'))\n",
    "df_van_rain['month'] = df_van_rain['dateime'].dt.month_name()\n",
    "df_van_rain['year'] = df_van_rain['dateime'].dt.year\n",
    "\n",
    "#agg houly\n",
    "df_van_rain_hourly = df_van_rain[['year','month','dayname','weather2','day','hour']].groupby(['year','month','dayname','day','weather2']).agg({'hour':'count'}).reset_index()\n",
    "df_van_rain_hourly = df_van_rain_hourly[df_van_rain_hourly['weather2'] == 'rain']\n",
    "\n",
    "#agg daily\n",
    "df_van_rain_daily = df_van_rain_hourly[['month','dayname','hour']].groupby(['month','dayname']).agg({'hour':'mean'}).reset_index()\n",
    "\n",
    "df_van_rain_daily_pivot = df_van_rain_daily.pivot(index='month', columns='dayname', values='hour')"
   ]
  },
  {
   "cell_type": "code",
   "execution_count": null,
   "metadata": {
    "colab": {
     "base_uri": "https://localhost:8080/",
     "height": 702
    },
    "id": "fOo4t9GtpfVr",
    "outputId": "4832c875-9a6a-4b7e-e5d8-5d64fa8c3ea6"
   },
   "outputs": [],
   "source": [
    "plt.rcParams['figure.figsize'] = [12, 8]\n",
    "plt.rcParams['figure.dpi'] = 100 # 200 e.g. is really fine, but slower\n",
    "sns.heatmap(df_van_rain_daily_pivot, annot=True, cmap=\"YlGnBu\")"
   ]
  },
  {
   "cell_type": "markdown",
   "metadata": {
    "id": "APb1bmUlOG5y"
   },
   "source": [
    "### 3.4.3 Weather Comparison\n",
    "We will compare count of weather in both cities to know occurement of specific weather on both of cities"
   ]
  },
  {
   "cell_type": "code",
   "execution_count": null,
   "metadata": {
    "id": "pJQ7FVOEpfVs"
   },
   "outputs": [],
   "source": [
    "df_weat_m = pd.DataFrame(df_miami.groupby(['weather2']).size()).reset_index()\n",
    "df_weat_m.columns = ['weather','count']\n",
    "df_weat_m['city'] = 'miami'\n",
    "df_weat_v = pd.DataFrame(df_vancouver.groupby(['weather2']).size()).reset_index()\n",
    "df_weat_v.columns = ['weather','count']\n",
    "df_weat_v['city'] = 'vancouver'\n",
    "\n",
    "df_weat_mv = pd.concat([df_weat_m, df_weat_v])"
   ]
  },
  {
   "cell_type": "code",
   "execution_count": null,
   "metadata": {
    "colab": {
     "base_uri": "https://localhost:8080/",
     "height": 544
    },
    "id": "90eK-DEhpfVs",
    "outputId": "122e9a1b-f123-41ed-ecbb-ee3f1ba26763"
   },
   "outputs": [],
   "source": [
    "plt.rcParams['figure.figsize'] = [12, 8]\n",
    "plt.rcParams['figure.dpi'] = 100 # 200 e.g. is really fine, but slower\n",
    "\n",
    "sns.catplot(\n",
    "    data=df_weat_mv, kind=\"bar\",\n",
    "    x=\"weather\", y=\"count\", hue=\"city\",\n",
    ")"
   ]
  },
  {
   "cell_type": "markdown",
   "metadata": {
    "id": "qlc6VbGbpfVs"
   },
   "source": [
    "## 3.5 Explore & Compare Data : Humidity\n",
    "We will explore differences between Miami and Vancouver based on humidity data and show the distribution and trend "
   ]
  },
  {
   "cell_type": "markdown",
   "metadata": {
    "id": "9TPHV5SKOG51"
   },
   "source": [
    "### 3.5.1 Humidity data distribution"
   ]
  },
  {
   "cell_type": "code",
   "execution_count": null,
   "metadata": {
    "id": "ub-N2Y33pfVs"
   },
   "outputs": [],
   "source": [
    "df_hum_m = pd.DataFrame()\n",
    "df_hum_m['humimdity'] = df_miami['humidity']\n",
    "df_hum_m['city'] = 'miami'\n",
    "\n",
    "df_hum_v = pd.DataFrame()\n",
    "df_hum_v['humimdity'] = df_vancouver['humidity']\n",
    "df_hum_v['city'] = 'vancouver'\n",
    "\n",
    "df_hum_mv = pd.concat([df_hum_m,df_hum_v])\n",
    "df_hum_mv['humimdity'] = df_hum_mv['humimdity'].astype(float)"
   ]
  },
  {
   "cell_type": "code",
   "execution_count": null,
   "metadata": {
    "colab": {
     "base_uri": "https://localhost:8080/",
     "height": 206
    },
    "id": "X3Q9ioCkpfVs",
    "outputId": "4e911be5-fbea-4811-94ac-f9ebf8b04eb1"
   },
   "outputs": [],
   "source": [
    "df_hum_mv.head()"
   ]
  },
  {
   "cell_type": "code",
   "execution_count": null,
   "metadata": {
    "colab": {
     "base_uri": "https://localhost:8080/",
     "height": 702
    },
    "id": "hb9dtiLapfVs",
    "outputId": "9e8f2756-a3f1-4311-aa19-a09b900a355c"
   },
   "outputs": [],
   "source": [
    "plt.rcParams['figure.figsize'] = [12, 8]\n",
    "plt.rcParams['figure.dpi'] = 100 # 200 e.g. is really fine, but slower\n",
    "sns.histplot(data=df_hum_mv, x=\"humimdity\", hue='city')"
   ]
  },
  {
   "cell_type": "markdown",
   "metadata": {
    "id": "tPD_FU3ROG56"
   },
   "source": [
    "### 3.5.2 Annual trend"
   ]
  },
  {
   "cell_type": "code",
   "execution_count": null,
   "metadata": {
    "colab": {
     "base_uri": "https://localhost:8080/",
     "height": 702
    },
    "id": "8bKTSDwCpfVs",
    "outputId": "28178c3f-4ce7-4ecf-ed0f-39007e886d54",
    "scrolled": false
   },
   "outputs": [],
   "source": [
    "# Annual \n",
    "\n",
    "df_van_ann_hum = pd.DataFrame()\n",
    "df_van_ann_hum['year'] = df_vancouver['day'].apply(lambda x:str(x)[:4])\n",
    "df_van_ann_hum['day'] = df_vancouver['day']\n",
    "df_van_ann_hum['humidity'] = df_vancouver['humidity']\n",
    "df_van_ann_hum = df_van_ann_hum[df_van_ann_hum['year']=='2015']\n",
    "df_van_ann_hum_agg = df_van_ann_hum[['day','humidity']].groupby('day').agg({'humidity':'mean'}).reset_index()\n",
    "df_van_ann_hum_agg['dateime'] = df_van_ann_hum_agg['day'].apply(lambda x: pd.to_datetime(str(x), format='%Y%m%d'))\n",
    "df_van_ann_hum_agg['city'] = 'vancouver'\n",
    "\n",
    "df_mia_ann_hum = pd.DataFrame()\n",
    "df_mia_ann_hum['year'] = df_miami['day'].apply(lambda x:str(x)[:4])\n",
    "df_mia_ann_hum['day'] = df_miami['day']\n",
    "df_mia_ann_hum['humidity'] = df_miami['humidity']\n",
    "df_mia_ann_hum = df_mia_ann_hum[df_mia_ann_hum['year']=='2015']\n",
    "df_mia_ann_hum_agg = df_mia_ann_hum[['day','humidity']].groupby('day').agg({'humidity':'mean'}).reset_index()\n",
    "df_mia_ann_hum_agg['dateime'] = df_mia_ann_hum_agg['day'].apply(lambda x: pd.to_datetime(str(x), format='%Y%m%d'))\n",
    "df_mia_ann_hum_agg['city'] = 'miami'\n",
    "\n",
    "df_ann_hum = pd.concat([df_van_ann_hum_agg,df_mia_ann_hum_agg],axis=0)\n",
    "\n",
    "sns.lineplot(data=df_ann_hum, x=\"dateime\", y=\"humidity\",hue='city')"
   ]
  },
  {
   "cell_type": "markdown",
   "metadata": {
    "id": "uufIoM2xOG57"
   },
   "source": [
    "### 3.5.3 Boxplot to compare humidity's distribution and skewness for both Miami and Vancouver"
   ]
  },
  {
   "cell_type": "code",
   "execution_count": null,
   "metadata": {
    "colab": {
     "base_uri": "https://localhost:8080/",
     "height": 702
    },
    "id": "GWrpV0iopfVs",
    "outputId": "7932a48c-f554-4f5d-ed11-8739187953d5"
   },
   "outputs": [],
   "source": [
    "sns.boxplot(x=\"type\", y=\"value\", hue= 'city', data=df_van_miami_2[df_van_miami_2['type']=='humidity'])"
   ]
  },
  {
   "cell_type": "markdown",
   "metadata": {
    "id": "Vpifo9oSpfVt"
   },
   "source": [
    "## 3.6 Explore & Compare Data : Wind Speed\n",
    "We will explore differences between Miami and Vancouver based on wind speed data and show the distribution and trend "
   ]
  },
  {
   "cell_type": "markdown",
   "metadata": {
    "id": "2au3jzVvOG58"
   },
   "source": [
    "### 3.6.1 Wind speed data distribution"
   ]
  },
  {
   "cell_type": "code",
   "execution_count": null,
   "metadata": {
    "id": "cP5p_-7GpfVt"
   },
   "outputs": [],
   "source": [
    "df_wind_m = pd.DataFrame()\n",
    "df_wind_m['wind_speed'] = df_miami['wind_speed']\n",
    "df_wind_m['city'] = 'miami'\n",
    "\n",
    "df_wind_v = pd.DataFrame()\n",
    "df_wind_v['wind_speed'] = df_vancouver['wind_speed']\n",
    "df_wind_v['city'] = 'vancouver'\n",
    "\n",
    "df_wind_mv = pd.concat([df_wind_m,df_wind_v])\n",
    "df_wind_mv['wind_speed'] = df_wind_mv['wind_speed'].astype(float)"
   ]
  },
  {
   "cell_type": "code",
   "execution_count": null,
   "metadata": {
    "colab": {
     "base_uri": "https://localhost:8080/",
     "height": 702
    },
    "id": "uBUGPt9FpfVt",
    "outputId": "4e625081-b2ee-4a43-a2e3-c0058cc05a86",
    "scrolled": false
   },
   "outputs": [],
   "source": [
    "plt.rcParams['figure.figsize'] = [12, 8]\n",
    "plt.rcParams['figure.dpi'] = 100 # 200 e.g. is really fine, but slower\n",
    "sns.histplot(data=df_wind_mv, x=\"wind_speed\", hue='city')"
   ]
  },
  {
   "cell_type": "markdown",
   "metadata": {
    "id": "QRIZZgvaOG5-"
   },
   "source": [
    "### 3.6.2 Boxplot to compare wind speed's distribution and skewness for both Miami and Vancouver"
   ]
  },
  {
   "cell_type": "code",
   "execution_count": null,
   "metadata": {
    "colab": {
     "base_uri": "https://localhost:8080/",
     "height": 702
    },
    "id": "ky6MQJlIpfVt",
    "outputId": "575a020e-7b4c-425a-add1-dc5ea68f84c0",
    "scrolled": false
   },
   "outputs": [],
   "source": [
    "sns.boxplot(x=\"type\", y=\"value\", hue= 'city', data=df_van_miami_2[df_van_miami_2['type']=='wind_speed'])"
   ]
  },
  {
   "cell_type": "markdown",
   "metadata": {
    "id": "6sM7vYWcpfVt"
   },
   "source": [
    "## 3.7 Explore & Compare Data : Pressure\n",
    "We will explore differences between Miami and Vancouver based on wind pressure and show the distribution and trend "
   ]
  },
  {
   "cell_type": "markdown",
   "metadata": {
    "id": "8wBgukXAOG6B"
   },
   "source": [
    "### 3.7.1 Pressure data distribution"
   ]
  },
  {
   "cell_type": "code",
   "execution_count": null,
   "metadata": {
    "id": "M4eRyNxmpfVt"
   },
   "outputs": [],
   "source": [
    "df_press_m = pd.DataFrame()\n",
    "df_press_m['pressure'] = df_miami['pressure']\n",
    "df_press_m['city'] = 'miami'\n",
    "\n",
    "df_press_v = pd.DataFrame()\n",
    "df_press_v['pressure'] = df_vancouver['pressure']\n",
    "df_press_v['city'] = 'vancouver'\n",
    "\n",
    "df_press_mv = pd.concat([df_press_m,df_press_v])\n",
    "df_press_mv['pressure'] = df_press_mv['pressure'].astype(float)"
   ]
  },
  {
   "cell_type": "code",
   "execution_count": null,
   "metadata": {
    "colab": {
     "base_uri": "https://localhost:8080/",
     "height": 701
    },
    "id": "WTzeMLf0pfVt",
    "outputId": "e8ec39ac-7cd3-4aae-dbb8-d60617a31a26"
   },
   "outputs": [],
   "source": [
    "plt.rcParams['figure.figsize'] = [12, 8]\n",
    "plt.rcParams['figure.dpi'] = 100 # 200 e.g. is really fine, but slower\n",
    "sns.histplot(data=df_press_mv, x=\"pressure\", hue='city')"
   ]
  },
  {
   "cell_type": "markdown",
   "metadata": {
    "id": "1-JiUieiOG6C"
   },
   "source": [
    "### 3.7.2 Boxplot to compare pressure's distribution and skewness for both Miami and Vancouver"
   ]
  },
  {
   "cell_type": "code",
   "execution_count": null,
   "metadata": {
    "colab": {
     "base_uri": "https://localhost:8080/",
     "height": 702
    },
    "id": "_ZKafcg4pfVt",
    "outputId": "8b53a8b5-f80b-4789-925f-cef23870f8d6"
   },
   "outputs": [],
   "source": [
    "sns.boxplot(x=\"type\", y=\"value\", hue= 'city', data=df_van_miami_2[df_van_miami_2['type']=='pressure'])"
   ]
  },
  {
   "cell_type": "markdown",
   "metadata": {
    "id": "u6FXsouIpfVt"
   },
   "source": [
    "## 3.8 Explore & Compare Data : Weather distribution based on temperature and humidity \n",
    "We want to explore weather distribution if we use temperature and humidity to get information on which which value of temperature and humidity that affect accurrence of weather phenomenon\n"
   ]
  },
  {
   "cell_type": "code",
   "execution_count": null,
   "metadata": {
    "id": "mkcLvXB4pfVu"
   },
   "outputs": [],
   "source": [
    "df_temp_hum_mi = df_miami[(df_miami['day'] >= 20150101) & (df_miami['day'] <= 20151231)][['day','temperature','humidity','weather2']]\n",
    "df_temp_hum_mi['city'] = 'miami'\n",
    "df_temp_hum_van = df_vancouver[(df_vancouver['day'] >= 20150101) & (df_vancouver['day'] <= 20151231)][['day','temperature','humidity','weather2']]\n",
    "df_temp_hum_van['city'] = 'vancouver'\n",
    "\n",
    "df_temp_hum_vanmi = pd.concat([df_temp_hum_mi,df_temp_hum_van])\n",
    "# df_temp_hum_vanmi = df_temp_hum_vanmi[(df_temp_hum_vanmi['day'] >= 20150101) & (df_temp_hum_vanmi['day'] <= 20151231)]"
   ]
  },
  {
   "cell_type": "code",
   "execution_count": null,
   "metadata": {
    "colab": {
     "base_uri": "https://localhost:8080/",
     "height": 702
    },
    "id": "2oN30HJmpfVu",
    "outputId": "8ed05bc6-164e-44d3-85e5-60ba7d39a760"
   },
   "outputs": [],
   "source": [
    "sns.scatterplot(data=df_temp_hum_mi, x=\"temperature\", y=\"humidity\", hue = 'weather2')"
   ]
  },
  {
   "cell_type": "code",
   "execution_count": null,
   "metadata": {
    "colab": {
     "base_uri": "https://localhost:8080/",
     "height": 701
    },
    "id": "AYFwplvoOCst",
    "outputId": "1fabcbcb-c70f-4c34-f96b-1febe81dbd08"
   },
   "outputs": [],
   "source": [
    "sns.scatterplot(data=df_temp_hum_van, x=\"temperature\", y=\"humidity\", hue = 'weather2')"
   ]
  },
  {
   "cell_type": "markdown",
   "metadata": {
    "id": "_xQ_HIyYpfVu"
   },
   "source": [
    "## 3.9 Explore & Compare Data : Weather distribution based on pressure and temperature \n",
    "We want to explore weather distribution if we use temperature and humidity to get information on which which value of temperature and pressure that affect accurrence of weather phenomenon"
   ]
  },
  {
   "cell_type": "code",
   "execution_count": null,
   "metadata": {
    "id": "BoVYpjNspfVu"
   },
   "outputs": [],
   "source": [
    "df_temp_pres_mi = df_miami[(df_miami['day'] >= 20150101) & (df_miami['day'] <= 20151231)][['day','temperature','pressure','weather2']]\n",
    "df_temp_pres_mi['city'] = 'miami'\n",
    "df_temp_pres_van = df_vancouver[(df_vancouver['day'] >= 20150101) & (df_vancouver['day'] <= 20151231)][['day','temperature','pressure','weather2']]\n",
    "df_temp_pres_van['city'] = 'vancouver'\n",
    "\n",
    "df_temp_pres_vanmi = pd.concat([df_temp_pres_mi,df_temp_pres_van])\n",
    "df_temp_pres_vanmi = df_temp_pres_vanmi[(df_temp_pres_vanmi['day'] >= 20150101) & (df_temp_pres_vanmi['day'] <= 20151231)]"
   ]
  },
  {
   "cell_type": "code",
   "execution_count": null,
   "metadata": {
    "colab": {
     "base_uri": "https://localhost:8080/",
     "height": 702
    },
    "id": "fCuC9rMVpfVu",
    "outputId": "42264065-be6b-4932-a915-967c8103c84a"
   },
   "outputs": [],
   "source": [
    "sns.scatterplot(data=df_temp_pres_mi, x=\"temperature\", y=\"pressure\", hue = 'weather2')"
   ]
  },
  {
   "cell_type": "code",
   "execution_count": null,
   "metadata": {
    "colab": {
     "base_uri": "https://localhost:8080/",
     "height": 702
    },
    "id": "VMuG1RO0ON4B",
    "outputId": "049f1987-2c81-4fc8-ab5e-99fe92305bfe"
   },
   "outputs": [],
   "source": [
    "sns.scatterplot(data=df_temp_pres_van, x=\"temperature\", y=\"pressure\", hue = 'weather2')"
   ]
  },
  {
   "cell_type": "markdown",
   "metadata": {
    "id": "8yuvR1kRpfVu"
   },
   "source": [
    "## 3.10 Explore & Compare Data : Weather distribution based on pressure and humidity \n",
    "We want to explore weather distribution if we use temperature and humidity to get information on which which value of pressure and humidity that affect accurrence of weather phenomenon"
   ]
  },
  {
   "cell_type": "code",
   "execution_count": null,
   "metadata": {
    "id": "_RUz_FeHpfVu"
   },
   "outputs": [],
   "source": [
    "df_hum_pres_mi =  df_miami[(df_miami['day'] >= 20150101) & (df_miami['day'] <= 20151231)][['day','humidity','pressure','weather2']]\n",
    "df_hum_pres_mi['city'] = 'miami'\n",
    "df_hum_pres_van = df_vancouver[(df_vancouver['day'] >= 20150101) & (df_vancouver['day'] <= 20151231)][['day','humidity','pressure','weather2']]\n",
    "df_hum_pres_van['city'] = 'vancouver'\n",
    "\n",
    "df_hum_pres_vanmi = pd.concat([df_hum_pres_mi,df_hum_pres_van])\n",
    "df_hum_pres_vanmi = df_hum_pres_vanmi[(df_hum_pres_vanmi['day'] >= 20150101) & (df_hum_pres_vanmi['day'] <= 20151231)]"
   ]
  },
  {
   "cell_type": "code",
   "execution_count": null,
   "metadata": {
    "colab": {
     "base_uri": "https://localhost:8080/",
     "height": 702
    },
    "id": "F5W1Uv2bpfVu",
    "outputId": "88ca8872-0a3f-4676-ada7-3fc5ee3eed07"
   },
   "outputs": [],
   "source": [
    "sns.scatterplot(data=df_hum_pres_mi, x=\"humidity\", y=\"pressure\", hue = 'weather2')"
   ]
  },
  {
   "cell_type": "code",
   "execution_count": null,
   "metadata": {
    "colab": {
     "base_uri": "https://localhost:8080/",
     "height": 702
    },
    "id": "l9MDgUxBOU4n",
    "outputId": "7c39b175-8e90-4391-feb8-aacce457ea4d"
   },
   "outputs": [],
   "source": [
    "sns.scatterplot(data=df_hum_pres_van, x=\"humidity\", y=\"pressure\", hue = 'weather2')"
   ]
  },
  {
   "cell_type": "markdown",
   "metadata": {
    "id": "K9lX4fKxpfVu"
   },
   "source": [
    "# *That's It,* Let's wrap it up and make some insight ! "
   ]
  }
 ],
 "metadata": {
  "colab": {
   "collapsed_sections": [],
   "name": "1_EDA_v3_Markdown.ipynb",
   "provenance": [],
   "toc_visible": true
  },
  "kernelspec": {
   "display_name": "Python 3",
   "language": "python",
   "name": "python3"
  },
  "language_info": {
   "codemirror_mode": {
    "name": "ipython",
    "version": 3
   },
   "file_extension": ".py",
   "mimetype": "text/x-python",
   "name": "python",
   "nbconvert_exporter": "python",
   "pygments_lexer": "ipython3",
   "version": "3.8.3"
  }
 },
 "nbformat": 4,
 "nbformat_minor": 1
}
