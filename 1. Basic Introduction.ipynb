{
 "cells": [
  {
   "cell_type": "markdown",
   "metadata": {
    "colab_type": "text",
    "id": "FzOYpJWhpZo8"
   },
   "source": [
    "# Python Basic Introduction"
   ]
  },
  {
   "cell_type": "markdown",
   "metadata": {
    "colab_type": "text",
    "id": "W_D8H3a5GsFG"
   },
   "source": [
    "## Variable"
   ]
  },
  {
   "cell_type": "markdown",
   "metadata": {
    "colab_type": "text",
    "id": "KoFZZWCLuk7S"
   },
   "source": [
    "Variable is reserved memory location to store a value. There are many types of variables based on their value types. They can be string, integer, double/float, boolean, etc. in Python, we don't have to define type of variable. It will change its type based on the value we assign to this variable.\n",
    "\n",
    "\n"
   ]
  },
  {
   "cell_type": "markdown",
   "metadata": {
    "colab_type": "text",
    "id": "Zaug7bqjG4_r"
   },
   "source": [
    "### String"
   ]
  },
  {
   "cell_type": "markdown",
   "metadata": {
    "colab_type": "text",
    "id": "yxpl0qDYwmr3"
   },
   "source": [
    "A string is a sequence of characters. In python, string can be created with single quotes, double quotes, or triple quotes.\n",
    "Here's an example of how we assign string value on a variable. we can use **type()** to know what is the type of a variable.\n"
   ]
  },
  {
   "cell_type": "code",
   "execution_count": null,
   "metadata": {
    "colab": {
     "base_uri": "https://localhost:8080/",
     "height": 32
    },
    "colab_type": "code",
    "id": "Txyr-ZnHGiE4",
    "outputId": "7e06c473-71a3-486c-f7ed-e666e4b0f3b1"
   },
   "outputs": [],
   "source": [
    "sentence = 'Welcome to Python'\n",
    "type(sentence)"
   ]
  },
  {
   "cell_type": "markdown",
   "metadata": {
    "colab_type": "text",
    "id": "_-pjwhvbHMrY"
   },
   "source": [
    "### Integer"
   ]
  },
  {
   "cell_type": "markdown",
   "metadata": {
    "colab_type": "text",
    "id": "raivlH00xWzb"
   },
   "source": [
    "Integers in python are positive or negative whole numbers with no decimal points. Here's an example of how we assign integer value on a variable."
   ]
  },
  {
   "cell_type": "code",
   "execution_count": null,
   "metadata": {
    "colab": {
     "base_uri": "https://localhost:8080/",
     "height": 32
    },
    "colab_type": "code",
    "id": "zxmBhD0AG3Aw",
    "outputId": "5cc5521b-4f30-4398-f3d5-29db16c2b726"
   },
   "outputs": [],
   "source": [
    "n = 15\n",
    "type(n)"
   ]
  },
  {
   "cell_type": "markdown",
   "metadata": {
    "colab_type": "text",
    "id": "d7k3Ofz2HOhu"
   },
   "source": [
    "### Double / Float"
   ]
  },
  {
   "cell_type": "markdown",
   "metadata": {
    "colab_type": "text",
    "id": "DwMkC40k4aBH"
   },
   "source": [
    "Unlike Integer which have no decimal points, double/float number is a number with decimal points."
   ]
  },
  {
   "cell_type": "markdown",
   "metadata": {
    "colab_type": "text",
    "id": "85FMeFzN7Rvm"
   },
   "source": []
  },
  {
   "cell_type": "code",
   "execution_count": null,
   "metadata": {
    "colab": {
     "base_uri": "https://localhost:8080/",
     "height": 32
    },
    "colab_type": "code",
    "id": "PDgU3mFjG9YO",
    "outputId": "a8757199-23ab-4a90-fceb-b447cb4e8701"
   },
   "outputs": [],
   "source": [
    "pi = 3.1415926535897931\n",
    "type(pi)"
   ]
  },
  {
   "cell_type": "markdown",
   "metadata": {
    "colab_type": "text",
    "id": "DlsL8LAxHQi2"
   },
   "source": [
    "### Boolean"
   ]
  },
  {
   "cell_type": "code",
   "execution_count": null,
   "metadata": {
    "colab": {
     "base_uri": "https://localhost:8080/",
     "height": 32
    },
    "colab_type": "code",
    "id": "tPOJwdT7HGKt",
    "outputId": "128d5fa1-0e5e-4fcb-e15b-0c3d646f5f2e"
   },
   "outputs": [],
   "source": [
    "var = True\n",
    "type(var)"
   ]
  },
  {
   "cell_type": "markdown",
   "metadata": {
    "colab_type": "text",
    "id": "6MhRoJsXHVd6"
   },
   "source": [
    "## Data Structures"
   ]
  },
  {
   "cell_type": "markdown",
   "metadata": {
    "colab_type": "text",
    "id": "SQwBBdNGHfEj"
   },
   "source": [
    "### List"
   ]
  },
  {
   "cell_type": "code",
   "execution_count": null,
   "metadata": {
    "colab": {},
    "colab_type": "code",
    "id": "kuHMGJiOHKgg"
   },
   "outputs": [],
   "source": [
    "a = [1, 2, 'abc']"
   ]
  },
  {
   "cell_type": "code",
   "execution_count": null,
   "metadata": {
    "colab": {},
    "colab_type": "code",
    "id": "YRTUKpZsHk6p"
   },
   "outputs": [],
   "source": [
    "a.append('def')"
   ]
  },
  {
   "cell_type": "code",
   "execution_count": null,
   "metadata": {
    "colab": {
     "base_uri": "https://localhost:8080/",
     "height": 32
    },
    "colab_type": "code",
    "id": "ApGZgcCkHnyw",
    "outputId": "0d8da24e-2675-4851-b827-c4ceded40366"
   },
   "outputs": [],
   "source": [
    "a"
   ]
  },
  {
   "cell_type": "markdown",
   "metadata": {
    "colab_type": "text",
    "id": "3n00Ix-JHqzI"
   },
   "source": [
    "### Tuple"
   ]
  },
  {
   "cell_type": "code",
   "execution_count": null,
   "metadata": {
    "colab": {
     "base_uri": "https://localhost:8080/",
     "height": 32
    },
    "colab_type": "code",
    "id": "2V3PScELHoR4",
    "outputId": "f41d6272-fcb4-4b21-cfb8-7ed74188cccc"
   },
   "outputs": [],
   "source": [
    "t = (1, 2, 'a')\n",
    "t"
   ]
  },
  {
   "cell_type": "code",
   "execution_count": null,
   "metadata": {
    "colab": {
     "base_uri": "https://localhost:8080/",
     "height": 32
    },
    "colab_type": "code",
    "id": "Z6UZOwOdH6C0",
    "outputId": "b4adc14e-96c1-4993-9c84-3f0bea4ae8cc"
   },
   "outputs": [],
   "source": [
    "t1 = 'learn', 'python'\n",
    "t1"
   ]
  },
  {
   "cell_type": "code",
   "execution_count": null,
   "metadata": {
    "colab": {
     "base_uri": "https://localhost:8080/",
     "height": 32
    },
    "colab_type": "code",
    "id": "17lkpIyWIBAw",
    "outputId": "52a6c708-aa6a-4890-9a3d-73c7430a24d0"
   },
   "outputs": [],
   "source": [
    "t1[0]"
   ]
  },
  {
   "cell_type": "markdown",
   "metadata": {
    "colab_type": "text",
    "id": "Q1os7a1sIwjl"
   },
   "source": [
    "### Dictionary"
   ]
  },
  {
   "cell_type": "code",
   "execution_count": null,
   "metadata": {
    "colab": {},
    "colab_type": "code",
    "id": "NabhjxM9IJ6f"
   },
   "outputs": [],
   "source": [
    "d = {'first':'string value',\n",
    "     'second':[1,2]}"
   ]
  },
  {
   "cell_type": "code",
   "execution_count": null,
   "metadata": {
    "colab": {
     "base_uri": "https://localhost:8080/",
     "height": 32
    },
    "colab_type": "code",
    "id": "53qbUHdqI4_H",
    "outputId": "346c473a-36f3-40fa-b5cb-0929de59c911"
   },
   "outputs": [],
   "source": [
    "d.keys()"
   ]
  },
  {
   "cell_type": "code",
   "execution_count": null,
   "metadata": {
    "colab": {
     "base_uri": "https://localhost:8080/",
     "height": 32
    },
    "colab_type": "code",
    "id": "XFvDyX8eI5rH",
    "outputId": "8b4be916-7270-4f77-f99a-aab2ecbc0bcc"
   },
   "outputs": [],
   "source": [
    "d.values()"
   ]
  },
  {
   "cell_type": "code",
   "execution_count": null,
   "metadata": {
    "colab": {
     "base_uri": "https://localhost:8080/",
     "height": 32
    },
    "colab_type": "code",
    "id": "_CllOszNJAEP",
    "outputId": "4273aae7-dea6-4ea5-d207-5b7059eefcdc"
   },
   "outputs": [],
   "source": [
    "d['first']"
   ]
  },
  {
   "cell_type": "code",
   "execution_count": null,
   "metadata": {
    "colab": {
     "base_uri": "https://localhost:8080/",
     "height": 32
    },
    "colab_type": "code",
    "id": "M4_M6vAbJtMI",
    "outputId": "0659956d-2396-48c9-9926-268f79c068b9"
   },
   "outputs": [],
   "source": [
    "d['second'][0]"
   ]
  },
  {
   "cell_type": "markdown",
   "metadata": {
    "colab": {},
    "colab_type": "code",
    "id": "FgX_gidXJPUe"
   },
   "source": [
    "## Math Operation"
   ]
  },
  {
   "cell_type": "markdown",
   "metadata": {
    "colab_type": "text",
    "id": "nK0IfVk-pZp2"
   },
   "source": [
    "Type:\n",
    "- addition ( + )\n",
    "- subtraction ( - )\n",
    "- multiplication ( \\* )\n",
    "- division ( / )\n",
    "- power ( \\*\\* )\n",
    "- modulo ( % )"
   ]
  },
  {
   "cell_type": "markdown",
   "metadata": {
    "colab_type": "text",
    "id": "dMHZjptopZp3"
   },
   "source": [
    "## Boolean Expressions"
   ]
  },
  {
   "cell_type": "markdown",
   "metadata": {
    "colab_type": "text",
    "id": "21OmdkPnpZp4"
   },
   "source": [
    "Type:\n",
    "- greater than ( > )\n",
    "- less than ( < )\n",
    "- greater than or equal ( >= )\n",
    "- less than or equal ( <= )\n",
    "- Not equal ( != )\n",
    "- equal ( == )\n",
    "- and\n",
    "- or"
   ]
  },
  {
   "cell_type": "markdown",
   "metadata": {
    "colab_type": "text",
    "id": "PWMwmQ-tpZp5"
   },
   "source": [
    "## String operators"
   ]
  },
  {
   "cell_type": "code",
   "execution_count": null,
   "metadata": {
    "colab": {},
    "colab_type": "code",
    "id": "UTVHWahnpZp6",
    "outputId": "7b2a55da-3ae2-4f4f-e52e-e023c4981ff7"
   },
   "outputs": [],
   "source": [
    "a = 10\n",
    "b = 20\n",
    "a + b"
   ]
  },
  {
   "cell_type": "code",
   "execution_count": null,
   "metadata": {
    "colab": {},
    "colab_type": "code",
    "id": "2mOUmsZ-pZp-",
    "outputId": "2a7a9c9e-e668-4e81-ada1-fbbe65909f1b"
   },
   "outputs": [],
   "source": [
    "a = '10'\n",
    "b = '20'\n",
    "a + b"
   ]
  },
  {
   "cell_type": "code",
   "execution_count": null,
   "metadata": {
    "colab": {},
    "colab_type": "code",
    "id": "w6rDXmoEpZqE",
    "outputId": "7ebc8292-a7d2-4fba-cb65-e3100ebe0db8"
   },
   "outputs": [],
   "source": [
    "a = '10'\n",
    "b = 3\n",
    "a * b"
   ]
  },
  {
   "cell_type": "markdown",
   "metadata": {
    "colab_type": "text",
    "id": "TPcmPMfPpZqG"
   },
   "source": [
    "## Conditional"
   ]
  },
  {
   "cell_type": "markdown",
   "metadata": {
    "colab_type": "text",
    "id": "ojspc-_UpZqH"
   },
   "source": [
    "### One conditional"
   ]
  },
  {
   "cell_type": "code",
   "execution_count": null,
   "metadata": {
    "colab": {},
    "colab_type": "code",
    "id": "DFx9_2z2pZqI",
    "outputId": "ab9e16d8-65b4-48ef-a686-828c17714ded"
   },
   "outputs": [],
   "source": [
    "x = 10\n",
    "if x > 5:\n",
    "    print(x, 'is greater than 5')"
   ]
  },
  {
   "cell_type": "markdown",
   "metadata": {
    "colab_type": "text",
    "id": "EOecGxv3pZqK"
   },
   "source": [
    "### Two conditional"
   ]
  },
  {
   "cell_type": "code",
   "execution_count": null,
   "metadata": {
    "colab": {},
    "colab_type": "code",
    "id": "8rE7UXAspZqL",
    "outputId": "d0a32f0f-30f2-47c8-8e76-baf645fbf66d"
   },
   "outputs": [],
   "source": [
    "x = 10\n",
    "if x % 2 == 0:\n",
    "    print(x, 'is even')\n",
    "else:\n",
    "    print(x, 'is odd')"
   ]
  },
  {
   "cell_type": "markdown",
   "metadata": {
    "colab_type": "text",
    "id": "bIdhjoDypZqN"
   },
   "source": [
    "### More than two conditional"
   ]
  },
  {
   "cell_type": "code",
   "execution_count": null,
   "metadata": {
    "colab": {},
    "colab_type": "code",
    "id": "UO-ZMZeypZqO",
    "outputId": "7e0664a8-dcf4-4447-c8b1-ce6eed57277e"
   },
   "outputs": [],
   "source": [
    "x = 10\n",
    "if x < 0:\n",
    "    print(x, 'is negative')\n",
    "elif x > 0:\n",
    "    print(x, 'is positive')\n",
    "else:\n",
    "    print(x, 'neutral')"
   ]
  },
  {
   "cell_type": "markdown",
   "metadata": {
    "colab_type": "text",
    "id": "iRWVMv2OpZqR"
   },
   "source": [
    "## Function"
   ]
  },
  {
   "cell_type": "code",
   "execution_count": null,
   "metadata": {
    "colab": {},
    "colab_type": "code",
    "id": "mmv70g2dpZqR",
    "outputId": "35e20dfe-a9fa-48a9-b9e4-050205c9b241"
   },
   "outputs": [],
   "source": [
    "def addone(n):\n",
    "    return n + 1\n",
    "\n",
    "addone(5)"
   ]
  },
  {
   "cell_type": "code",
   "execution_count": null,
   "metadata": {
    "colab": {},
    "colab_type": "code",
    "id": "xTjuyMGvpZqU",
    "outputId": "d61d4373-78f6-4dae-eca9-31ea39278aea"
   },
   "outputs": [],
   "source": [
    "max(4, 6)"
   ]
  },
  {
   "cell_type": "code",
   "execution_count": null,
   "metadata": {
    "colab": {},
    "colab_type": "code",
    "id": "c8goc7OvpZqX",
    "outputId": "ab9cdb41-f8eb-430d-9500-ed5955a6972e"
   },
   "outputs": [],
   "source": [
    "min(4, -3, 6, 1)"
   ]
  },
  {
   "cell_type": "markdown",
   "metadata": {
    "colab_type": "text",
    "id": "0VeHbdg_pZqa"
   },
   "source": [
    "## Loop"
   ]
  },
  {
   "cell_type": "markdown",
   "metadata": {
    "colab_type": "text",
    "id": "hMPliZJdpZqa"
   },
   "source": [
    "### For loop"
   ]
  },
  {
   "cell_type": "code",
   "execution_count": null,
   "metadata": {
    "colab": {},
    "colab_type": "code",
    "id": "Wa1SjkAnpZqc",
    "outputId": "8e7cefd1-24a8-4c3a-d900-5a108574fbcc"
   },
   "outputs": [],
   "source": [
    "for i in range(10):\n",
    "    print(i)"
   ]
  },
  {
   "cell_type": "code",
   "execution_count": null,
   "metadata": {
    "colab": {},
    "colab_type": "code",
    "id": "Q_FcHHZppZqf",
    "outputId": "0d5f5c23-7973-46ca-b22e-9068f7a00692"
   },
   "outputs": [],
   "source": [
    "arr = ['David', 'Adam', 'Reza']\n",
    "for name in arr:\n",
    "    print(name)"
   ]
  },
  {
   "cell_type": "code",
   "execution_count": null,
   "metadata": {
    "colab": {},
    "colab_type": "code",
    "id": "gZrbAfaapZqi",
    "outputId": "b3f3a87c-949c-4776-ea84-947866bb0959",
    "scrolled": true
   },
   "outputs": [],
   "source": [
    "for i, name in enumerate(arr):\n",
    "    print(i, name)"
   ]
  },
  {
   "cell_type": "code",
   "execution_count": null,
   "metadata": {
    "colab": {},
    "colab_type": "code",
    "id": "P5jnHLXlpZqk",
    "outputId": "3174b119-a4f8-4a79-c674-2f813e0d77ac"
   },
   "outputs": [],
   "source": [
    "for i in range(len(arr)):\n",
    "    print(arr[i])"
   ]
  },
  {
   "cell_type": "markdown",
   "metadata": {
    "colab_type": "text",
    "id": "sJF1Jj5lpZqm"
   },
   "source": [
    "### While loop"
   ]
  },
  {
   "cell_type": "code",
   "execution_count": null,
   "metadata": {
    "colab": {},
    "colab_type": "code",
    "id": "S37EeT2BpZqn",
    "outputId": "8cb59b5f-dabf-4559-b763-518ec532cc2b",
    "scrolled": true
   },
   "outputs": [],
   "source": [
    "i = 0\n",
    "while i < 10:\n",
    "    print(i)\n",
    "    i += 1  # i = i + 1"
   ]
  },
  {
   "cell_type": "markdown",
   "metadata": {
    "colab_type": "text",
    "id": "gxu1SI3CpZqq"
   },
   "source": [
    "## Strings"
   ]
  },
  {
   "cell_type": "code",
   "execution_count": null,
   "metadata": {
    "colab": {},
    "colab_type": "code",
    "id": "uG-Fcp9VpZqr",
    "outputId": "d79a7de9-a339-447b-d48e-6330866a2d63"
   },
   "outputs": [],
   "source": [
    "var = 'coffee'\n",
    "var[0]"
   ]
  },
  {
   "cell_type": "code",
   "execution_count": null,
   "metadata": {
    "colab": {},
    "colab_type": "code",
    "id": "1Sf-AAaipZqt",
    "outputId": "e2fbf63b-70fa-4090-e7d8-a07bf521769d"
   },
   "outputs": [],
   "source": [
    "for i, char in enumerate(var):\n",
    "    print(i, char)"
   ]
  },
  {
   "cell_type": "code",
   "execution_count": null,
   "metadata": {
    "colab": {},
    "colab_type": "code",
    "id": "ttwzxJ6FpZqv",
    "outputId": "0e085314-f961-4f45-910f-5224d553bc1a"
   },
   "outputs": [],
   "source": [
    "'ff' in var"
   ]
  },
  {
   "cell_type": "code",
   "execution_count": null,
   "metadata": {
    "colab": {},
    "colab_type": "code",
    "id": "e4ceXmL0pZqx",
    "outputId": "20d4efdb-f04d-4fea-dcee-d86607b61c04"
   },
   "outputs": [],
   "source": [
    "'a' in var"
   ]
  },
  {
   "cell_type": "markdown",
   "metadata": {
    "colab_type": "text",
    "id": "-NljJZPlpZq0"
   },
   "source": [
    "## List"
   ]
  },
  {
   "cell_type": "markdown",
   "metadata": {
    "colab_type": "text",
    "id": "Svj3eDPppZq2"
   },
   "source": [
    "### Initialize"
   ]
  },
  {
   "cell_type": "code",
   "execution_count": null,
   "metadata": {
    "colab": {},
    "colab_type": "code",
    "id": "1mWachHOpZq2",
    "outputId": "da0bf1d2-e5af-4666-93f1-3a51fea21814"
   },
   "outputs": [],
   "source": [
    "arr = []\n",
    "arr"
   ]
  },
  {
   "cell_type": "code",
   "execution_count": null,
   "metadata": {
    "colab": {},
    "colab_type": "code",
    "id": "6k2jYv_zpZq6",
    "outputId": "eb10e4ac-9ee5-4c52-cd40-d2cdff39be77"
   },
   "outputs": [],
   "source": [
    "arr = list()\n",
    "arr"
   ]
  },
  {
   "cell_type": "code",
   "execution_count": null,
   "metadata": {
    "colab": {},
    "colab_type": "code",
    "id": "c26OZ77FpZq8",
    "outputId": "393910e6-8de5-43b5-e633-5072f7e15102"
   },
   "outputs": [],
   "source": [
    "arr.append(5)\n",
    "arr.append('good')\n",
    "arr"
   ]
  },
  {
   "cell_type": "code",
   "execution_count": null,
   "metadata": {
    "colab": {},
    "colab_type": "code",
    "id": "6MStDv1bpZrB",
    "outputId": "3d645ac1-e416-4048-c827-9e860c60d5f8"
   },
   "outputs": [],
   "source": [
    "arr[1] = 'bad'\n",
    "arr"
   ]
  },
  {
   "cell_type": "code",
   "execution_count": null,
   "metadata": {
    "colab": {},
    "colab_type": "code",
    "id": "5pSoeYchpZrF",
    "outputId": "2bafa387-ff0d-48cd-a369-a5e547b19901",
    "scrolled": true
   },
   "outputs": [],
   "source": [
    "arr.append(['apple', 'lemon'])\n",
    "arr"
   ]
  },
  {
   "cell_type": "code",
   "execution_count": null,
   "metadata": {
    "colab": {},
    "colab_type": "code",
    "id": "kC8wJxmipZrI",
    "outputId": "d7995134-39c4-4b21-fa5b-2985f47fe3f9"
   },
   "outputs": [],
   "source": [
    "arr.extend(['sport', '100'])\n",
    "arr"
   ]
  },
  {
   "cell_type": "code",
   "execution_count": null,
   "metadata": {
    "colab": {},
    "colab_type": "code",
    "id": "BPDNUbNdpZrL",
    "outputId": "03ac9ae2-0a90-4f0d-e58e-dd078335214a"
   },
   "outputs": [],
   "source": [
    "for name in arr:\n",
    "    print(name)"
   ]
  },
  {
   "cell_type": "markdown",
   "metadata": {
    "colab_type": "text",
    "id": "H6tEv3JcpZrO"
   },
   "source": [
    "### List operation"
   ]
  },
  {
   "cell_type": "code",
   "execution_count": null,
   "metadata": {
    "colab": {},
    "colab_type": "code",
    "id": "jhEPlXkRpZrO",
    "outputId": "bbb37787-7a0f-4082-8ab4-b7bbf9124fe4"
   },
   "outputs": [],
   "source": [
    "a = [1, 3, 5, 7, 9]\n",
    "b = [0, 2, 4, 6, 8]\n",
    "a + b"
   ]
  },
  {
   "cell_type": "code",
   "execution_count": null,
   "metadata": {
    "colab": {},
    "colab_type": "code",
    "id": "xybDWzbRpZrQ",
    "outputId": "0d09637f-d262-4a98-fc62-f8ec57f37812"
   },
   "outputs": [],
   "source": [
    "[10] * 3"
   ]
  },
  {
   "cell_type": "markdown",
   "metadata": {
    "colab_type": "text",
    "id": "toOIVapQpZrT"
   },
   "source": [
    "### List Slices"
   ]
  },
  {
   "cell_type": "code",
   "execution_count": null,
   "metadata": {
    "colab": {},
    "colab_type": "code",
    "id": "3tbdT0AWpZrT",
    "outputId": "279ddcd9-90f2-40e5-e5b3-6c3d60ef23fe"
   },
   "outputs": [],
   "source": [
    "a[0:3]"
   ]
  },
  {
   "cell_type": "code",
   "execution_count": null,
   "metadata": {
    "colab": {},
    "colab_type": "code",
    "id": "PP5h5A1WpZrX",
    "outputId": "17eebf88-27ee-436d-91d9-22489019fa7d"
   },
   "outputs": [],
   "source": [
    "a[:3]"
   ]
  },
  {
   "cell_type": "code",
   "execution_count": null,
   "metadata": {
    "colab": {},
    "colab_type": "code",
    "id": "Ehgc_mUUpZrZ",
    "outputId": "c73a4e18-d37c-4307-c015-11cf65912e97"
   },
   "outputs": [],
   "source": [
    "b[4:]"
   ]
  },
  {
   "cell_type": "code",
   "execution_count": null,
   "metadata": {
    "colab": {},
    "colab_type": "code",
    "id": "CkhhjSB_pZra",
    "outputId": "bebfd83f-e92c-4bc5-a025-1665eb79f748"
   },
   "outputs": [],
   "source": [
    "b[-1]"
   ]
  },
  {
   "cell_type": "markdown",
   "metadata": {
    "colab_type": "text",
    "id": "NuuQwdMfpZrc"
   },
   "source": [
    "### List Function"
   ]
  },
  {
   "cell_type": "code",
   "execution_count": null,
   "metadata": {
    "colab": {},
    "colab_type": "code",
    "id": "81qxFLjUpZrc",
    "outputId": "0c2860c3-ad45-4eba-c5e1-25d3a8d3b220"
   },
   "outputs": [],
   "source": [
    "len(a)"
   ]
  },
  {
   "cell_type": "code",
   "execution_count": null,
   "metadata": {
    "colab": {},
    "colab_type": "code",
    "id": "kQSnsUE0pZre",
    "outputId": "790aafcd-3654-4a0a-b1c0-44b02b7e04db"
   },
   "outputs": [],
   "source": [
    "max(a)"
   ]
  },
  {
   "cell_type": "code",
   "execution_count": null,
   "metadata": {
    "colab": {},
    "colab_type": "code",
    "id": "aymefA9lpZrg",
    "outputId": "3236aa68-22f8-40de-9551-b2ab4a915a36"
   },
   "outputs": [],
   "source": [
    "min(a)"
   ]
  },
  {
   "cell_type": "code",
   "execution_count": null,
   "metadata": {
    "colab": {},
    "colab_type": "code",
    "id": "PGqKiVIypZrh",
    "outputId": "39148f74-2e18-484e-dd3a-4c40a61140ce"
   },
   "outputs": [],
   "source": [
    "sum(a)"
   ]
  },
  {
   "cell_type": "code",
   "execution_count": null,
   "metadata": {
    "colab": {},
    "colab_type": "code",
    "id": "YA4CdyzfpZrj",
    "outputId": "a7166047-fc00-4963-893f-5ba4fe34d0e6"
   },
   "outputs": [],
   "source": [
    "sum(a)/len(a)"
   ]
  },
  {
   "cell_type": "markdown",
   "metadata": {
    "colab_type": "text",
    "id": "87Lp_xQ9pZrn"
   },
   "source": [
    "### Delete Element"
   ]
  },
  {
   "cell_type": "code",
   "execution_count": null,
   "metadata": {
    "colab": {},
    "colab_type": "code",
    "id": "VqwQJ5S9pZro",
    "outputId": "14f7b9e2-6ee4-4649-9043-661c6df41bd1"
   },
   "outputs": [],
   "source": [
    "# pop\n",
    "a = [1, 3, 5, 7, 9]\n",
    "a.pop(1)\n",
    "a"
   ]
  },
  {
   "cell_type": "code",
   "execution_count": null,
   "metadata": {
    "colab": {},
    "colab_type": "code",
    "id": "RZEhdNkgpZrr",
    "outputId": "894d1e11-6463-4f9e-9113-5b5c32c681e8"
   },
   "outputs": [],
   "source": [
    "# remove\n",
    "a = [1, 3, 5, 7, 9]\n",
    "a.remove(1)\n",
    "a"
   ]
  },
  {
   "cell_type": "code",
   "execution_count": null,
   "metadata": {
    "colab": {},
    "colab_type": "code",
    "id": "q1yb2K-zpZrv",
    "outputId": "6e75fcbc-ad0d-4716-ea94-4d9d3d8a0ac9"
   },
   "outputs": [],
   "source": [
    "# del\n",
    "a = [1, 3, 5, 7, 9]\n",
    "del a[4]\n",
    "a"
   ]
  },
  {
   "cell_type": "markdown",
   "metadata": {
    "colab_type": "text",
    "id": "klACOPm4pZrx"
   },
   "source": [
    "### List & Strings"
   ]
  },
  {
   "cell_type": "code",
   "execution_count": null,
   "metadata": {
    "colab": {},
    "colab_type": "code",
    "id": "Y06VaeRGpZry",
    "outputId": "eda42914-b403-4a8f-b761-37946de2eef6"
   },
   "outputs": [],
   "source": [
    "# Convert string to list\n",
    "sent = 'to infinity and beyond'\n",
    "token = sent.split()\n",
    "token"
   ]
  },
  {
   "cell_type": "code",
   "execution_count": null,
   "metadata": {
    "colab": {},
    "colab_type": "code",
    "id": "hsW5y7ZmpZrz",
    "outputId": "95c623cb-f81a-4c67-883f-8a004f786a56"
   },
   "outputs": [],
   "source": [
    "# Convert list to string\n",
    "sent = ' '.join(token)\n",
    "sent"
   ]
  },
  {
   "cell_type": "code",
   "execution_count": null,
   "metadata": {
    "colab": {},
    "colab_type": "code",
    "id": "XA1d4vBMpZr1",
    "outputId": "10b251f9-8f4f-43c3-91da-94e7f7e382cc"
   },
   "outputs": [],
   "source": [
    "a = 'apple-mango-orange'\n",
    "a.split('-')"
   ]
  },
  {
   "cell_type": "markdown",
   "metadata": {
    "colab_type": "text",
    "id": "4JutxnDDGRPg"
   },
   "source": [
    "### List Comperhension"
   ]
  },
  {
   "cell_type": "code",
   "execution_count": null,
   "metadata": {
    "colab": {},
    "colab_type": "code",
    "id": "qsiFnti3GZT7"
   },
   "outputs": [],
   "source": [
    "a = [1, 2, 3, 4, 5]\n",
    "b = [i+i for i in a]"
   ]
  },
  {
   "cell_type": "code",
   "execution_count": null,
   "metadata": {
    "colab": {
     "base_uri": "https://localhost:8080/",
     "height": 34
    },
    "colab_type": "code",
    "executionInfo": {
     "elapsed": 946,
     "status": "ok",
     "timestamp": 1583854813966,
     "user": {
      "displayName": "Wira Indra Kusuma",
      "photoUrl": "https://lh3.googleusercontent.com/a-/AOh14GjxvM8lR7gewjUr-odZHs7dMaIEuLJpESRRZAxj_w=s64",
      "userId": "09169924250695402476"
     },
     "user_tz": -420
    },
    "id": "suqjcbZzGmPz",
    "outputId": "263f2ceb-944c-4c14-cbcb-76952154e584"
   },
   "outputs": [],
   "source": [
    "print (b)"
   ]
  },
  {
   "cell_type": "markdown",
   "metadata": {
    "colab_type": "text",
    "id": "T1F89mRtpZr3"
   },
   "source": [
    "## Dictionary"
   ]
  },
  {
   "cell_type": "markdown",
   "metadata": {
    "colab_type": "text",
    "id": "zGMhqFIrpZr4"
   },
   "source": [
    "### Initialize"
   ]
  },
  {
   "cell_type": "code",
   "execution_count": null,
   "metadata": {
    "colab": {},
    "colab_type": "code",
    "id": "Z7Qhn0akpZr4",
    "outputId": "8c5090cc-7454-4917-bfaf-8bc741b0d399"
   },
   "outputs": [],
   "source": [
    "d = {}\n",
    "d"
   ]
  },
  {
   "cell_type": "code",
   "execution_count": null,
   "metadata": {
    "colab": {},
    "colab_type": "code",
    "id": "ThzbFSgBpZr6",
    "outputId": "5b257107-3b9f-4ca5-a056-070997b9c4f0"
   },
   "outputs": [],
   "source": [
    "d = dict()\n",
    "d"
   ]
  },
  {
   "cell_type": "code",
   "execution_count": null,
   "metadata": {
    "colab": {},
    "colab_type": "code",
    "id": "C1p0XdI1pZr7",
    "outputId": "006eacf9-1fc0-44b9-e8e4-0613fb38daaf"
   },
   "outputs": [],
   "source": [
    "d['id'] = 1101\n",
    "d['city'] = 'Jakarta'\n",
    "d"
   ]
  },
  {
   "cell_type": "code",
   "execution_count": null,
   "metadata": {
    "colab": {},
    "colab_type": "code",
    "id": "syOEtHlLpZr-",
    "outputId": "4e720f01-60b0-4d3a-9beb-a26dac046cd9"
   },
   "outputs": [],
   "source": [
    "d = {'anna': 89, 'bagus': 97, 'bani': 77}\n",
    "d"
   ]
  },
  {
   "cell_type": "markdown",
   "metadata": {
    "colab_type": "text",
    "id": "Ls0lHyAvpZr_"
   },
   "source": [
    "### Looping in dictionary"
   ]
  },
  {
   "cell_type": "code",
   "execution_count": null,
   "metadata": {
    "colab": {},
    "colab_type": "code",
    "id": "KeajO9oOpZr_",
    "outputId": "59031370-70d1-42d7-ec34-4ea7b69fd03f"
   },
   "outputs": [],
   "source": [
    "for item in d:\n",
    "    print(item, d[item])"
   ]
  },
  {
   "cell_type": "code",
   "execution_count": null,
   "metadata": {
    "colab": {},
    "colab_type": "code",
    "id": "6rtQ0WbNpZsB",
    "outputId": "2c1eb256-2615-41c5-9561-c816d519363a"
   },
   "outputs": [],
   "source": [
    "for key, value in d.items():\n",
    "    print(key, value)"
   ]
  },
  {
   "cell_type": "markdown",
   "metadata": {
    "colab_type": "text",
    "id": "peUrqZmhpZsD"
   },
   "source": [
    "## Files I/O"
   ]
  },
  {
   "cell_type": "markdown",
   "metadata": {
    "colab_type": "text",
    "id": "OyPQyvevpZsE"
   },
   "source": [
    "### Writing files"
   ]
  },
  {
   "cell_type": "code",
   "execution_count": null,
   "metadata": {
    "colab": {},
    "colab_type": "code",
    "id": "i-CHLK51tu2h"
   },
   "outputs": [],
   "source": [
    "a = [1, 2, 3, 4, 5]\n",
    "\n",
    "with open('./sample_file.txt', 'w') as file:\n",
    "  for elm in a:\n",
    "    file.write(str(elm)+'\\n')"
   ]
  },
  {
   "cell_type": "markdown",
   "metadata": {
    "colab_type": "text",
    "id": "d4yAX3e1pZsE"
   },
   "source": [
    "### Reading files"
   ]
  },
  {
   "cell_type": "code",
   "execution_count": null,
   "metadata": {
    "colab": {
     "base_uri": "https://localhost:8080/",
     "height": 34
    },
    "colab_type": "code",
    "executionInfo": {
     "elapsed": 1053,
     "status": "ok",
     "timestamp": 1583765213025,
     "user": {
      "displayName": "Wira Indra Kusuma",
      "photoUrl": "https://lh3.googleusercontent.com/a-/AOh14GjxvM8lR7gewjUr-odZHs7dMaIEuLJpESRRZAxj_w=s64",
      "userId": "09169924250695402476"
     },
     "user_tz": -420
    },
    "id": "FHgfiSzip4i9",
    "outputId": "b56ce3e7-e965-42c2-afc9-cdf4cc14c795"
   },
   "outputs": [],
   "source": [
    "with open('./sample_file.txt', 'r') as file:\n",
    "  a = file.read().splitlines()\n",
    "\n",
    "print (a)"
   ]
  },
  {
   "cell_type": "markdown",
   "metadata": {
    "colab_type": "text",
    "id": "L_9r2Kzzw7dh"
   },
   "source": [
    "## Save Pickle"
   ]
  },
  {
   "cell_type": "code",
   "execution_count": null,
   "metadata": {
    "colab": {},
    "colab_type": "code",
    "id": "Qvl1Yy3hxHT7"
   },
   "outputs": [],
   "source": [
    "import pickle\n",
    "\n",
    "a = [1, 2, 3, 4, 5]\n",
    "pickle.dump(a, open('./sample_pickle.pkl', 'wb'))"
   ]
  },
  {
   "cell_type": "markdown",
   "metadata": {
    "colab_type": "text",
    "id": "w2dLHJq6xxXF"
   },
   "source": [
    "## Load Pickle"
   ]
  },
  {
   "cell_type": "code",
   "execution_count": null,
   "metadata": {
    "colab": {
     "base_uri": "https://localhost:8080/",
     "height": 34
    },
    "colab_type": "code",
    "executionInfo": {
     "elapsed": 1169,
     "status": "ok",
     "timestamp": 1583765498038,
     "user": {
      "displayName": "Wira Indra Kusuma",
      "photoUrl": "https://lh3.googleusercontent.com/a-/AOh14GjxvM8lR7gewjUr-odZHs7dMaIEuLJpESRRZAxj_w=s64",
      "userId": "09169924250695402476"
     },
     "user_tz": -420
    },
    "id": "NENXoQjFx0RI",
    "outputId": "365c1803-55ce-4fce-842e-37968ad5a5c3"
   },
   "outputs": [],
   "source": [
    "a = pickle.load(open('./sample_pickle.pkl', 'rb'))\n",
    "print (a)"
   ]
  },
  {
   "cell_type": "markdown",
   "metadata": {
    "colab_type": "text",
    "id": "OJotWY_1pZsF"
   },
   "source": [
    "## Error Handling"
   ]
  },
  {
   "cell_type": "code",
   "execution_count": null,
   "metadata": {
    "colab": {},
    "colab_type": "code",
    "id": "4NoUpQfPpZsF",
    "outputId": "9f31527a-1b94-4846-c8aa-6987b0810582"
   },
   "outputs": [],
   "source": [
    "a = [1, 2, '3', 4, 5]\n",
    "for i in a:\n",
    "    try:\n",
    "        print(i + 10)\n",
    "    except:\n",
    "        print(i, 'not a number')"
   ]
  },
  {
   "cell_type": "markdown",
   "metadata": {
    "colab_type": "text",
    "id": "0eK3zvZx1-dz"
   },
   "source": [
    "### Continue"
   ]
  },
  {
   "cell_type": "code",
   "execution_count": null,
   "metadata": {
    "colab": {
     "base_uri": "https://localhost:8080/",
     "height": 85
    },
    "colab_type": "code",
    "executionInfo": {
     "elapsed": 873,
     "status": "ok",
     "timestamp": 1583766428668,
     "user": {
      "displayName": "Wira Indra Kusuma",
      "photoUrl": "https://lh3.googleusercontent.com/a-/AOh14GjxvM8lR7gewjUr-odZHs7dMaIEuLJpESRRZAxj_w=s64",
      "userId": "09169924250695402476"
     },
     "user_tz": -420
    },
    "id": "6H5-3wQLpZsI",
    "outputId": "d2848f51-3659-4c50-cef4-75e183554815"
   },
   "outputs": [],
   "source": [
    "a = [1, 2, 3, 4, 5]\n",
    "for i in a:\n",
    "  if i == 3:\n",
    "    continue\n",
    "    print ('a')\n",
    "  else:\n",
    "    print (i)"
   ]
  },
  {
   "cell_type": "markdown",
   "metadata": {
    "colab_type": "text",
    "id": "SQuESgXj2B7p"
   },
   "source": [
    "### Break"
   ]
  },
  {
   "cell_type": "code",
   "execution_count": null,
   "metadata": {
    "colab": {
     "base_uri": "https://localhost:8080/",
     "height": 51
    },
    "colab_type": "code",
    "executionInfo": {
     "elapsed": 893,
     "status": "ok",
     "timestamp": 1583766433749,
     "user": {
      "displayName": "Wira Indra Kusuma",
      "photoUrl": "https://lh3.googleusercontent.com/a-/AOh14GjxvM8lR7gewjUr-odZHs7dMaIEuLJpESRRZAxj_w=s64",
      "userId": "09169924250695402476"
     },
     "user_tz": -420
    },
    "id": "zX054ZyrzNBw",
    "outputId": "d2ead25d-0f52-42c4-8ce3-6e0c44ad4a79"
   },
   "outputs": [],
   "source": [
    "a = [1, 2, 3, 4, 5]\n",
    "for i in a:\n",
    "  if i == 3:\n",
    "    break\n",
    "    print ('a')\n",
    "  else:\n",
    "    print (i)"
   ]
  },
  {
   "cell_type": "markdown",
   "metadata": {
    "colab_type": "text",
    "id": "QFk1kWVB2Fk1"
   },
   "source": [
    "### Pass"
   ]
  },
  {
   "cell_type": "code",
   "execution_count": null,
   "metadata": {
    "colab": {
     "base_uri": "https://localhost:8080/",
     "height": 102
    },
    "colab_type": "code",
    "executionInfo": {
     "elapsed": 597,
     "status": "ok",
     "timestamp": 1583766435090,
     "user": {
      "displayName": "Wira Indra Kusuma",
      "photoUrl": "https://lh3.googleusercontent.com/a-/AOh14GjxvM8lR7gewjUr-odZHs7dMaIEuLJpESRRZAxj_w=s64",
      "userId": "09169924250695402476"
     },
     "user_tz": -420
    },
    "id": "SDpBkcPmzTIV",
    "outputId": "75878c38-e4a4-4ed1-b3d6-a776afa8c7b4"
   },
   "outputs": [],
   "source": [
    "a = [1, 2, 3, 4, 5]\n",
    "for i in a:\n",
    "  if i == 3:\n",
    "    pass\n",
    "    print ('a')\n",
    "  else:\n",
    "    print (i)"
   ]
  },
  {
   "cell_type": "code",
   "execution_count": null,
   "metadata": {
    "colab": {},
    "colab_type": "code",
    "id": "vpna0XTQ1pfH"
   },
   "outputs": [],
   "source": []
  }
 ],
 "metadata": {
  "colab": {
   "collapsed_sections": [
    "3n00Ix-JHqzI",
    "Q1os7a1sIwjl",
    "ojspc-_UpZqH",
    "EOecGxv3pZqK",
    "bIdhjoDypZqN",
    "hMPliZJdpZqa",
    "sJF1Jj5lpZqm",
    "Svj3eDPppZq2",
    "H6tEv3JcpZrO",
    "toOIVapQpZrT",
    "NuuQwdMfpZrc",
    "87Lp_xQ9pZrn",
    "klACOPm4pZrx",
    "zGMhqFIrpZr4",
    "Ls0lHyAvpZr_"
   ],
   "name": "Python_Basic_Introduction.ipynb",
   "provenance": [],
   "toc_visible": true
  },
  "kernelspec": {
   "display_name": "Python 3",
   "language": "python",
   "name": "python3"
  },
  "language_info": {
   "codemirror_mode": {
    "name": "ipython",
    "version": 3
   },
   "file_extension": ".py",
   "mimetype": "text/x-python",
   "name": "python",
   "nbconvert_exporter": "python",
   "pygments_lexer": "ipython3",
   "version": "3.8.3"
  }
 },
 "nbformat": 4,
 "nbformat_minor": 1
}
