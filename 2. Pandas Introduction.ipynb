{
 "cells": [
  {
   "cell_type": "code",
   "execution_count": null,
   "metadata": {
    "colab": {},
    "colab_type": "code",
    "id": "B75Nhel0szp4"
   },
   "outputs": [],
   "source": [
    "import pandas as pd"
   ]
  },
  {
   "cell_type": "code",
   "execution_count": null,
   "metadata": {
    "colab": {},
    "colab_type": "code",
    "id": "7Pi8SLhpszqM",
    "outputId": "5a233214-a9c5-43a4-91ec-f850d97ede8a"
   },
   "outputs": [],
   "source": [
    "pd.__version__"
   ]
  },
  {
   "cell_type": "markdown",
   "metadata": {
    "colab_type": "text",
    "id": "j1mScmAbszqZ"
   },
   "source": [
    "## Basic Concept\n",
    "\n",
    "The primary data structures in *pandas* are implemented as two classes:\n",
    "\n",
    "  * **`DataFrame`**, which you can imagine as a relational data table, with rows and named columns.\n",
    "  * **`Series`**, which is a single column. A `DataFrame` contains one or more `Series` and a name for each `Series`."
   ]
  },
  {
   "cell_type": "code",
   "execution_count": null,
   "metadata": {
    "colab": {},
    "colab_type": "code",
    "id": "tB1HqZdGszqe",
    "outputId": "ba7f2735-caa5-476b-d271-c85e0ce1a615"
   },
   "outputs": [],
   "source": [
    "# Series\n",
    "pd.Series(['San Francisco', 'San Jose', 'Sacramento'])"
   ]
  },
  {
   "cell_type": "code",
   "execution_count": null,
   "metadata": {
    "colab": {},
    "colab_type": "code",
    "id": "4bt61AR0szqo"
   },
   "outputs": [],
   "source": [
    "city_names = pd.Series(['San Francisco', 'San Jose', 'Sacramento'])\n",
    "population = pd.Series([852469, 1015785, 485199])"
   ]
  },
  {
   "cell_type": "code",
   "execution_count": null,
   "metadata": {
    "colab": {},
    "colab_type": "code",
    "id": "q_db6Fp0szqv",
    "outputId": "c103711d-aad1-44c9-df9d-66eeaf95d32a"
   },
   "outputs": [],
   "source": [
    "# Data Frame\n",
    "pd.DataFrame({'City name': city_names, 'Population': population})"
   ]
  },
  {
   "cell_type": "markdown",
   "metadata": {
    "colab_type": "text",
    "id": "Ll0uQcaoszq3"
   },
   "source": [
    "## Creating DataFrames from scratch"
   ]
  },
  {
   "cell_type": "code",
   "execution_count": null,
   "metadata": {
    "colab": {},
    "colab_type": "code",
    "id": "eGwG0rnbszq5"
   },
   "outputs": [],
   "source": [
    "data = {\n",
    "    'apples': [3, 2, 0, 1], \n",
    "    'oranges': [0, 3, 7, 2]\n",
    "}"
   ]
  },
  {
   "cell_type": "code",
   "execution_count": null,
   "metadata": {
    "colab": {},
    "colab_type": "code",
    "id": "dtKcdeBXszrH",
    "outputId": "1704e752-42ee-452e-9392-47eab880dd32"
   },
   "outputs": [],
   "source": [
    "purchases = pd.DataFrame(data)\n",
    "purchases"
   ]
  },
  {
   "cell_type": "markdown",
   "metadata": {
    "colab_type": "text",
    "id": "6vNhgCeLszrN"
   },
   "source": [
    "### Indexing"
   ]
  },
  {
   "cell_type": "code",
   "execution_count": null,
   "metadata": {
    "colab": {},
    "colab_type": "code",
    "id": "IHrLuSskszrR",
    "outputId": "c1882df8-8963-4b71-e01b-b1d661804adf"
   },
   "outputs": [],
   "source": [
    "purchases = pd.DataFrame(data, index=['June', 'Robert', 'Lily', 'David'])\n",
    "purchases"
   ]
  },
  {
   "cell_type": "code",
   "execution_count": null,
   "metadata": {
    "colab": {},
    "colab_type": "code",
    "id": "yphf0NzOszrY",
    "outputId": "54dc2d86-26b2-4355-fd13-aebe295b2eb9"
   },
   "outputs": [],
   "source": [
    "purchases.loc['Robert']"
   ]
  },
  {
   "cell_type": "markdown",
   "metadata": {
    "colab_type": "text",
    "id": "GHIOuHQItL5k"
   },
   "source": [
    "## Read data from files"
   ]
  },
  {
   "cell_type": "markdown",
   "metadata": {
    "colab_type": "text",
    "id": "5ICJT4BQuGNa"
   },
   "source": [
    "## Accessing Data\n",
    "\n",
    "You can access `DataFrame` data using familiar Python dict/list operations:"
   ]
  },
  {
   "cell_type": "code",
   "execution_count": null,
   "metadata": {
    "colab": {},
    "colab_type": "code",
    "id": "pAixJ3cytwKz"
   },
   "outputs": [],
   "source": [
    "city_names = pd.Series(['San Francisco', 'San Jose', 'Sacramento'])\n",
    "population = pd.Series([852469, 1015785, 485199])\n",
    "\n",
    "df = pd.DataFrame({'City name': city_names, 'Population': population})"
   ]
  },
  {
   "cell_type": "code",
   "execution_count": null,
   "metadata": {
    "colab": {
     "base_uri": "https://localhost:8080/",
     "height": 82
    },
    "colab_type": "code",
    "executionInfo": {
     "elapsed": 1102,
     "status": "ok",
     "timestamp": 1583479416326,
     "user": {
      "displayName": "Fahmi Salman Nurfikri",
      "photoUrl": "https://lh3.googleusercontent.com/a-/AOh14Ggy-0u3qgQL7STI6OTuEftXs0gMenJ6_LpzQJSxcw=s64",
      "userId": "00245196995893858079"
     },
     "user_tz": -420
    },
    "id": "baLk6ZExuPcH",
    "outputId": "a75ad2cb-e9ec-4af1-d8fd-8e1b3001281f"
   },
   "outputs": [],
   "source": [
    "df['City name']"
   ]
  },
  {
   "cell_type": "code",
   "execution_count": null,
   "metadata": {
    "colab": {
     "base_uri": "https://localhost:8080/",
     "height": 32
    },
    "colab_type": "code",
    "executionInfo": {
     "elapsed": 589,
     "status": "ok",
     "timestamp": 1583479434416,
     "user": {
      "displayName": "Fahmi Salman Nurfikri",
      "photoUrl": "https://lh3.googleusercontent.com/a-/AOh14Ggy-0u3qgQL7STI6OTuEftXs0gMenJ6_LpzQJSxcw=s64",
      "userId": "00245196995893858079"
     },
     "user_tz": -420
    },
    "id": "J-gvddnhuTUr",
    "outputId": "802f7cea-7957-47ce-c412-8ef93458e6fe"
   },
   "outputs": [],
   "source": [
    "df['City name'][1]"
   ]
  },
  {
   "cell_type": "code",
   "execution_count": null,
   "metadata": {
    "colab": {
     "base_uri": "https://localhost:8080/",
     "height": 109
    },
    "colab_type": "code",
    "executionInfo": {
     "elapsed": 756,
     "status": "ok",
     "timestamp": 1583479432789,
     "user": {
      "displayName": "Fahmi Salman Nurfikri",
      "photoUrl": "https://lh3.googleusercontent.com/a-/AOh14Ggy-0u3qgQL7STI6OTuEftXs0gMenJ6_LpzQJSxcw=s64",
      "userId": "00245196995893858079"
     },
     "user_tz": -420
    },
    "id": "85t7BaWkuVSL",
    "outputId": "8c6fe554-9f0d-4c26-da6a-1d9ca34412b4"
   },
   "outputs": [],
   "source": [
    "df[0:2]"
   ]
  },
  {
   "cell_type": "markdown",
   "metadata": {
    "colab_type": "text",
    "id": "T0eN6Z1exx7G"
   },
   "source": [
    "## IMDB Movie Data"
   ]
  },
  {
   "cell_type": "code",
   "execution_count": null,
   "metadata": {
    "colab": {},
    "colab_type": "code",
    "id": "59WhTLxIwTUi"
   },
   "outputs": [],
   "source": [
    "df = pd.read_csv(\"Data/IMDB-Movie-Data.csv\", index_col=\"Title\")"
   ]
  },
  {
   "cell_type": "code",
   "execution_count": null,
   "metadata": {
    "colab": {
     "base_uri": "https://localhost:8080/",
     "height": 548
    },
    "colab_type": "code",
    "executionInfo": {
     "elapsed": 1132,
     "status": "ok",
     "timestamp": 1583479976914,
     "user": {
      "displayName": "Fahmi Salman Nurfikri",
      "photoUrl": "https://lh3.googleusercontent.com/a-/AOh14Ggy-0u3qgQL7STI6OTuEftXs0gMenJ6_LpzQJSxcw=s64",
      "userId": "00245196995893858079"
     },
     "user_tz": -420
    },
    "id": "lBvVnF1swX4w",
    "outputId": "a1ca477b-7c9c-4948-b3d1-7ed133451665"
   },
   "outputs": [],
   "source": [
    "df.head()"
   ]
  },
  {
   "cell_type": "code",
   "execution_count": null,
   "metadata": {
    "colab": {
     "base_uri": "https://localhost:8080/",
     "height": 280
    },
    "colab_type": "code",
    "executionInfo": {
     "elapsed": 953,
     "status": "ok",
     "timestamp": 1583480067427,
     "user": {
      "displayName": "Fahmi Salman Nurfikri",
      "photoUrl": "https://lh3.googleusercontent.com/a-/AOh14Ggy-0u3qgQL7STI6OTuEftXs0gMenJ6_LpzQJSxcw=s64",
      "userId": "00245196995893858079"
     },
     "user_tz": -420
    },
    "id": "gbJmg31SxDQy",
    "outputId": "47e58efe-6b38-4c1c-fa46-a3744147fc8a"
   },
   "outputs": [],
   "source": [
    "df.info()"
   ]
  },
  {
   "cell_type": "code",
   "execution_count": null,
   "metadata": {
    "colab": {
     "base_uri": "https://localhost:8080/",
     "height": 32
    },
    "colab_type": "code",
    "executionInfo": {
     "elapsed": 1057,
     "status": "ok",
     "timestamp": 1583480202635,
     "user": {
      "displayName": "Fahmi Salman Nurfikri",
      "photoUrl": "https://lh3.googleusercontent.com/a-/AOh14Ggy-0u3qgQL7STI6OTuEftXs0gMenJ6_LpzQJSxcw=s64",
      "userId": "00245196995893858079"
     },
     "user_tz": -420
    },
    "id": "czJZkyRsxkuU",
    "outputId": "a4f0b894-db77-4a7b-b97d-bb147813e254"
   },
   "outputs": [],
   "source": [
    "df.shape"
   ]
  },
  {
   "cell_type": "code",
   "execution_count": null,
   "metadata": {
    "colab": {
     "base_uri": "https://localhost:8080/",
     "height": 291
    },
    "colab_type": "code",
    "executionInfo": {
     "elapsed": 970,
     "status": "ok",
     "timestamp": 1583480013987,
     "user": {
      "displayName": "Fahmi Salman Nurfikri",
      "photoUrl": "https://lh3.googleusercontent.com/a-/AOh14Ggy-0u3qgQL7STI6OTuEftXs0gMenJ6_LpzQJSxcw=s64",
      "userId": "00245196995893858079"
     },
     "user_tz": -420
    },
    "id": "prl_mdb9wu7C",
    "outputId": "d4a93977-fa39-4215-e8ce-c92b1f2daa94"
   },
   "outputs": [],
   "source": [
    "df.describe()"
   ]
  },
  {
   "cell_type": "markdown",
   "metadata": {
    "colab_type": "text",
    "id": "UZLD5Ml-03ub"
   },
   "source": [
    "### Handling duplicates"
   ]
  },
  {
   "cell_type": "code",
   "execution_count": null,
   "metadata": {
    "colab": {
     "base_uri": "https://localhost:8080/",
     "height": 32
    },
    "colab_type": "code",
    "executionInfo": {
     "elapsed": 1099,
     "status": "ok",
     "timestamp": 1583481240630,
     "user": {
      "displayName": "Fahmi Salman Nurfikri",
      "photoUrl": "https://lh3.googleusercontent.com/a-/AOh14Ggy-0u3qgQL7STI6OTuEftXs0gMenJ6_LpzQJSxcw=s64",
      "userId": "00245196995893858079"
     },
     "user_tz": -420
    },
    "id": "T_Q_2pRsw4BZ",
    "outputId": "2d4e76da-3515-46fb-8f84-406f4c40f883"
   },
   "outputs": [],
   "source": [
    "temp_df = df.append(df)\n",
    "temp_df.shape"
   ]
  },
  {
   "cell_type": "code",
   "execution_count": null,
   "metadata": {
    "colab": {
     "base_uri": "https://localhost:8080/",
     "height": 32
    },
    "colab_type": "code",
    "executionInfo": {
     "elapsed": 1259,
     "status": "ok",
     "timestamp": 1583481241046,
     "user": {
      "displayName": "Fahmi Salman Nurfikri",
      "photoUrl": "https://lh3.googleusercontent.com/a-/AOh14Ggy-0u3qgQL7STI6OTuEftXs0gMenJ6_LpzQJSxcw=s64",
      "userId": "00245196995893858079"
     },
     "user_tz": -420
    },
    "id": "7XM4f1ko0_Jo",
    "outputId": "6e8fce8b-a03f-4df4-f502-a4c0a5d96579"
   },
   "outputs": [],
   "source": [
    "temp_df = temp_df.drop_duplicates()\n",
    "temp_df.shape"
   ]
  },
  {
   "cell_type": "code",
   "execution_count": null,
   "metadata": {
    "colab": {},
    "colab_type": "code",
    "id": "Y8du8-UG3qnU"
   },
   "outputs": [],
   "source": [
    "temp_df.drop_duplicates(inplace=True)"
   ]
  },
  {
   "cell_type": "markdown",
   "metadata": {
    "colab_type": "text",
    "id": "jjELQ47p3qnY"
   },
   "source": [
    "Another important argument for `drop_duplicates()` is `keep`, which has three possible options:\n",
    "\n",
    "* `first`: (default) Drop duplicates except for the first occurrence.\n",
    "* `last`: Drop duplicates except for the last occurrence.\n",
    "* `False`: Drop all duplicates.\n",
    "\n",
    "Since we didn't define the `keep` arugment in the previous example it was defaulted to `first`. This means that if two rows are the same pandas will drop the second row and keep the first row. Using `last` has the opposite effect: the first row is dropped.\n",
    "\n",
    "`keep`, on the other hand, will drop all duplicates. If two rows are the same then both will be dropped. Watch what happens to `temp_df`:"
   ]
  },
  {
   "cell_type": "code",
   "execution_count": null,
   "metadata": {
    "colab": {
     "base_uri": "https://localhost:8080/",
     "height": 1000
    },
    "colab_type": "code",
    "executionInfo": {
     "elapsed": 1250,
     "status": "ok",
     "timestamp": 1583481175018,
     "user": {
      "displayName": "Fahmi Salman Nurfikri",
      "photoUrl": "https://lh3.googleusercontent.com/a-/AOh14Ggy-0u3qgQL7STI6OTuEftXs0gMenJ6_LpzQJSxcw=s64",
      "userId": "00245196995893858079"
     },
     "user_tz": -420
    },
    "id": "T5g2WCFd1FJU",
    "outputId": "f5192781-92d2-4da1-d5a1-f439b43fdfb7"
   },
   "outputs": [],
   "source": [
    "temp_df = df.append(df)  # make a new copy\n",
    "temp_df.drop_duplicates(inplace=True, keep=False)\n",
    "temp_df.shape"
   ]
  },
  {
   "cell_type": "code",
   "execution_count": null,
   "metadata": {
    "colab": {},
    "colab_type": "code",
    "id": "BVJsFmtU3qnh",
    "outputId": "737740a2-09d0-40a4-8d67-f352e6834313"
   },
   "outputs": [],
   "source": [
    "df.columns"
   ]
  },
  {
   "cell_type": "code",
   "execution_count": null,
   "metadata": {
    "colab": {},
    "colab_type": "code",
    "id": "V7m2DG7j3qnk",
    "outputId": "f4b8f8f5-acbb-44b7-fd89-353fe033be99"
   },
   "outputs": [],
   "source": [
    "df.rename(columns={\n",
    "        'Runtime (Minutes)': 'Runtime', \n",
    "        'Revenue (Millions)': 'Revenue_millions'\n",
    "    }, inplace=True)\n",
    "\n",
    "\n",
    "df.columns"
   ]
  },
  {
   "cell_type": "code",
   "execution_count": null,
   "metadata": {
    "colab": {},
    "colab_type": "code",
    "id": "-TwtG16j3qnp",
    "outputId": "7291932e-758f-4ba0-f1a6-7376e6b306da"
   },
   "outputs": [],
   "source": [
    "df.columns = [col.lower() for col in df]\n",
    "df.columns"
   ]
  },
  {
   "cell_type": "markdown",
   "metadata": {
    "colab_type": "text",
    "id": "eZn8YGVI3qnt"
   },
   "source": [
    "### Missing value"
   ]
  },
  {
   "cell_type": "code",
   "execution_count": null,
   "metadata": {
    "colab": {},
    "colab_type": "code",
    "id": "m3bZrdVg3qnt",
    "outputId": "632dc7b6-4e52-4ce8-e298-73fa8b0185a4"
   },
   "outputs": [],
   "source": [
    "df.isnull()"
   ]
  },
  {
   "cell_type": "code",
   "execution_count": null,
   "metadata": {
    "colab": {},
    "colab_type": "code",
    "id": "q-rGwGFa3qnx",
    "outputId": "a0115f36-87af-4de6-b215-4d296050947e"
   },
   "outputs": [],
   "source": [
    "df.isnull().sum()"
   ]
  },
  {
   "cell_type": "markdown",
   "metadata": {
    "colab_type": "text",
    "id": "4HQqlpbD3qn7"
   },
   "source": [
    "#### Removing null values"
   ]
  },
  {
   "cell_type": "code",
   "execution_count": null,
   "metadata": {
    "colab": {},
    "colab_type": "code",
    "id": "jvsMnSs03qn8",
    "outputId": "59659437-2758-45c2-d8f0-31b8dc4b9afb"
   },
   "outputs": [],
   "source": [
    "df.dropna()"
   ]
  },
  {
   "cell_type": "markdown",
   "metadata": {
    "colab_type": "text",
    "id": "bhQz4W7v3qn_"
   },
   "source": [
    "This operation will delete any **row** with at least a single null value, but it will return a new DataFrame without altering the original one. You could specify `inplace=True` in this method as well.\n",
    "\n",
    "Other than just dropping rows, you can also drop columns with null values by setting `axis=1`:"
   ]
  },
  {
   "cell_type": "code",
   "execution_count": null,
   "metadata": {
    "colab": {},
    "colab_type": "code",
    "id": "_-QjbLSi3qoA",
    "outputId": "d0b95ddb-d742-4de9-8ad6-00fe6024542f"
   },
   "outputs": [],
   "source": [
    "df.dropna(axis=1)"
   ]
  },
  {
   "cell_type": "code",
   "execution_count": null,
   "metadata": {
    "colab": {},
    "colab_type": "code",
    "id": "8o5WMiEQ3qoE",
    "outputId": "ff516668-dabe-470c-81ef-a753913848c0"
   },
   "outputs": [],
   "source": [
    "df.shape"
   ]
  },
  {
   "cell_type": "markdown",
   "metadata": {
    "colab_type": "text",
    "id": "WrYs-Wax3qo8"
   },
   "source": [
    "### Understanding your variables"
   ]
  },
  {
   "cell_type": "code",
   "execution_count": null,
   "metadata": {
    "colab": {},
    "colab_type": "code",
    "id": "ArQeK26F3qo8",
    "outputId": "0b2f1a19-5e85-4c90-9a81-7bd78911808d"
   },
   "outputs": [],
   "source": [
    "df.describe()"
   ]
  },
  {
   "cell_type": "code",
   "execution_count": null,
   "metadata": {
    "colab": {},
    "colab_type": "code",
    "id": "bfF_X4Vl3qpC",
    "outputId": "c9a22ba8-9fcb-4137-d2eb-08124cc693ce"
   },
   "outputs": [],
   "source": [
    "df['genre'].describe()"
   ]
  },
  {
   "cell_type": "code",
   "execution_count": null,
   "metadata": {
    "colab": {},
    "colab_type": "code",
    "id": "sWKaNx6t3qpF",
    "outputId": "f27019ba-c297-4724-e0b7-f95d17096ede"
   },
   "outputs": [],
   "source": [
    "df['genre'].value_counts().head(10)"
   ]
  },
  {
   "cell_type": "markdown",
   "metadata": {
    "colab_type": "text",
    "id": "LyPBDTgZ3qpJ"
   },
   "source": [
    "#### Relationships between continuous variables"
   ]
  },
  {
   "cell_type": "code",
   "execution_count": null,
   "metadata": {
    "colab": {},
    "colab_type": "code",
    "id": "0q-uvIL_3qpK",
    "outputId": "adfc0239-cab6-4db1-9966-d3a45adbfba6"
   },
   "outputs": [],
   "source": [
    "df.corr()"
   ]
  },
  {
   "cell_type": "markdown",
   "metadata": {
    "colab_type": "text",
    "id": "Xqt9T1lv3qpS"
   },
   "source": [
    "Positive numbers indicate a positive correlation — one goes up the other goes up — and negative numbers represent an inverse correlation — one goes up the other goes down. 1.0 indicates a perfect correlation."
   ]
  },
  {
   "cell_type": "markdown",
   "metadata": {
    "colab_type": "text",
    "id": "ermTTcV_3qpx"
   },
   "source": [
    "### DataFrame slicing, selecting, extracting"
   ]
  },
  {
   "cell_type": "markdown",
   "metadata": {
    "colab_type": "text",
    "id": "2ir_Q0fb3qp2"
   },
   "source": [
    "#### By columns"
   ]
  },
  {
   "cell_type": "code",
   "execution_count": null,
   "metadata": {
    "colab": {},
    "colab_type": "code",
    "id": "NnTncpg23qp9",
    "outputId": "8d066e4b-db06-4c48-926d-10ca45140a97",
    "scrolled": true
   },
   "outputs": [],
   "source": [
    "df[['genre', 'rating']]"
   ]
  },
  {
   "cell_type": "markdown",
   "metadata": {
    "colab_type": "text",
    "id": "muvfmhTd3qp_"
   },
   "source": [
    "#### By rows"
   ]
  },
  {
   "cell_type": "code",
   "execution_count": null,
   "metadata": {
    "colab": {},
    "colab_type": "code",
    "id": "CJZo6gef3qp_",
    "outputId": "47501fc5-f180-4ae0-f69a-20c4ba30ad67"
   },
   "outputs": [],
   "source": [
    "df.loc[\"Prometheus\"]"
   ]
  },
  {
   "cell_type": "code",
   "execution_count": null,
   "metadata": {
    "colab": {},
    "colab_type": "code",
    "id": "exNGyj0A3qqB",
    "outputId": "845fb5da-1550-4f34-abec-1b3a465e4100"
   },
   "outputs": [],
   "source": [
    "df.iloc[1]"
   ]
  },
  {
   "cell_type": "code",
   "execution_count": null,
   "metadata": {
    "colab": {},
    "colab_type": "code",
    "id": "LpAWTxUU3qqD",
    "outputId": "45d6734c-8485-4d55-f18e-a96b38da5955"
   },
   "outputs": [],
   "source": [
    "df.loc['Prometheus':'Sing']"
   ]
  },
  {
   "cell_type": "code",
   "execution_count": null,
   "metadata": {
    "colab": {},
    "colab_type": "code",
    "id": "j4XuVJdJ3qqF",
    "outputId": "760219aa-4810-4079-d383-cdef7d33e693"
   },
   "outputs": [],
   "source": [
    "df.iloc[1:4]"
   ]
  },
  {
   "cell_type": "markdown",
   "metadata": {
    "colab_type": "text",
    "id": "IQJu6eu73qqH"
   },
   "source": [
    "#### Conditional selections"
   ]
  },
  {
   "cell_type": "code",
   "execution_count": null,
   "metadata": {
    "colab": {},
    "colab_type": "code",
    "id": "ogWkzngk3qqI",
    "outputId": "67fbe168-eeb6-4421-d4c9-4337790c4f1e"
   },
   "outputs": [],
   "source": [
    "(df['director'] == \"Ridley Scott\").head()"
   ]
  },
  {
   "cell_type": "code",
   "execution_count": null,
   "metadata": {
    "colab": {},
    "colab_type": "code",
    "id": "C1Z3Og0G3qqJ",
    "outputId": "8c3dbf37-dd5f-4a84-bea5-e0f48617a667"
   },
   "outputs": [],
   "source": [
    "df[df['director'] == \"Ridley Scott\"].head()"
   ]
  },
  {
   "cell_type": "code",
   "execution_count": null,
   "metadata": {
    "colab": {},
    "colab_type": "code",
    "id": "JHNK667V3qqO",
    "outputId": "b3ca057a-d699-442b-daf0-8a1b5cf1c4ce"
   },
   "outputs": [],
   "source": [
    "df[(df['director'] == \"Ridley Scott\") | (df['year'] == 2012)].head()"
   ]
  },
  {
   "cell_type": "code",
   "execution_count": null,
   "metadata": {
    "colab": {},
    "colab_type": "code",
    "id": "RqMUu8i73qqQ",
    "outputId": "2b002860-4f04-4a44-d265-74035809d17d"
   },
   "outputs": [],
   "source": [
    "df[(df['director'] == \"Ridley Scott\") & (df['year'] == 2012)].head()"
   ]
  },
  {
   "cell_type": "code",
   "execution_count": null,
   "metadata": {
    "colab": {},
    "colab_type": "code",
    "id": "NY61OgST3qqT",
    "outputId": "06fa0184-ccb6-4238-d615-2ae00d340816"
   },
   "outputs": [],
   "source": [
    "df[df['director'].isin(['Christopher Nolan', 'Ridley Scott'])].head()"
   ]
  },
  {
   "cell_type": "markdown",
   "metadata": {
    "colab_type": "text",
    "id": "CaUuMH_h3qqX"
   },
   "source": [
    "Let's say we want all movies that were released between 2005 and 2010, have a rating above 8.0, but made below the 25th percentile in revenue.\n",
    "Here's how we could do all of that:"
   ]
  },
  {
   "cell_type": "code",
   "execution_count": null,
   "metadata": {
    "colab": {},
    "colab_type": "code",
    "id": "8IhVJRD93qqZ",
    "outputId": "b26740de-6173-4508-976e-0100d6f47532"
   },
   "outputs": [],
   "source": [
    "df[\n",
    "    ((df['year'] >= 2005) & (df['year'] <= 2010))\n",
    "    & (df['rating'] > 8.0)\n",
    "    & (df['revenue_millions'] < df['revenue_millions'].quantile(0.25))\n",
    "]"
   ]
  },
  {
   "cell_type": "markdown",
   "metadata": {
    "colab_type": "text",
    "id": "LquaEpUD3qqa"
   },
   "source": [
    "### Applying finctions"
   ]
  },
  {
   "cell_type": "code",
   "execution_count": null,
   "metadata": {
    "colab": {},
    "colab_type": "code",
    "id": "C2sTDMHE3qqc"
   },
   "outputs": [],
   "source": [
    "def rating_function(x):\n",
    "    if x >= 8.0:\n",
    "        return \"good\"\n",
    "    else:\n",
    "        return \"bad\""
   ]
  },
  {
   "cell_type": "code",
   "execution_count": null,
   "metadata": {
    "colab": {},
    "colab_type": "code",
    "id": "wE3vm08r3qqd",
    "outputId": "81f4909a-751e-45ef-a3f7-e191d0b7f48e"
   },
   "outputs": [],
   "source": [
    "df[\"rating_category\"] = df[\"rating\"].apply(rating_function)\n",
    "df.head()"
   ]
  },
  {
   "cell_type": "code",
   "execution_count": null,
   "metadata": {
    "colab": {},
    "colab_type": "code",
    "id": "nk0GJVzs3qqf",
    "outputId": "dc130b90-38c8-41d7-e0e4-9df100bf4c60"
   },
   "outputs": [],
   "source": [
    "df[\"rating_category\"] = df[\"rating\"].apply(lambda x: 'good' if x >= 8.0 else 'bad')\n",
    "df.head(5)"
   ]
  },
  {
   "cell_type": "markdown",
   "metadata": {
    "colab_type": "text",
    "id": "hiuo26ZO3qqq"
   },
   "source": [
    "### Brief Plotting"
   ]
  },
  {
   "cell_type": "code",
   "execution_count": null,
   "metadata": {
    "colab": {},
    "colab_type": "code",
    "id": "2gNwIQWB3qqr"
   },
   "outputs": [],
   "source": [
    "import matplotlib.pyplot as plt\n",
    "plt.rcParams.update({'font.size': 20, 'figure.figsize': (10, 8)}) # set font and plot size to be larger"
   ]
  },
  {
   "cell_type": "code",
   "execution_count": null,
   "metadata": {
    "colab": {},
    "colab_type": "code",
    "id": "ROito7dc3qqt",
    "outputId": "6f6c849c-0eea-45d5-86f7-88fc003a510e"
   },
   "outputs": [],
   "source": [
    "df.plot(kind='scatter', x='rating', y='revenue_millions', title='Revenue (millions) vs Rating');"
   ]
  },
  {
   "cell_type": "code",
   "execution_count": null,
   "metadata": {
    "colab": {},
    "colab_type": "code",
    "id": "nizdPapS3qqv",
    "outputId": "13c6d147-0fcc-47be-f1e5-9ec36c3d5c30"
   },
   "outputs": [],
   "source": [
    "df['rating'].plot(kind='hist', title='Rating');"
   ]
  },
  {
   "cell_type": "code",
   "execution_count": null,
   "metadata": {
    "colab": {},
    "colab_type": "code",
    "id": "pDN7tYWt3qqw",
    "outputId": "09f5f056-713e-4281-ee4b-8d6801d07bbf"
   },
   "outputs": [],
   "source": [
    "df['rating'].describe()"
   ]
  },
  {
   "cell_type": "code",
   "execution_count": null,
   "metadata": {
    "colab": {},
    "colab_type": "code",
    "id": "2ql6A24R3qq0",
    "outputId": "99f7f643-c992-4092-ae36-6ad91b527785"
   },
   "outputs": [],
   "source": [
    "df['rating'].plot(kind=\"box\");"
   ]
  },
  {
   "cell_type": "code",
   "execution_count": null,
   "metadata": {
    "colab": {},
    "colab_type": "code",
    "id": "ROKzE5WU3qq1",
    "outputId": "4e313800-ebe3-4c52-c94e-f5503731cf34"
   },
   "outputs": [],
   "source": [
    "df.boxplot(column='revenue_millions', by='rating_category');"
   ]
  },
  {
   "cell_type": "code",
   "execution_count": null,
   "metadata": {
    "colab": {},
    "colab_type": "code",
    "id": "QkyKqFrK-c41"
   },
   "outputs": [],
   "source": []
  }
 ],
 "metadata": {
  "colab": {
   "collapsed_sections": [
    "WrYs-Wax3qo8",
    "LyPBDTgZ3qpJ",
    "ermTTcV_3qpx",
    "2ir_Q0fb3qp2",
    "muvfmhTd3qp_",
    "IQJu6eu73qqH",
    "LquaEpUD3qqa",
    "hiuo26ZO3qqq"
   ],
   "name": "Pandas Introduction.ipynb",
   "provenance": [],
   "toc_visible": true
  },
  "kernelspec": {
   "display_name": "Python 3",
   "language": "python",
   "name": "python3"
  },
  "language_info": {
   "codemirror_mode": {
    "name": "ipython",
    "version": 3
   },
   "file_extension": ".py",
   "mimetype": "text/x-python",
   "name": "python",
   "nbconvert_exporter": "python",
   "pygments_lexer": "ipython3",
   "version": "3.8.3"
  }
 },
 "nbformat": 4,
 "nbformat_minor": 1
}
