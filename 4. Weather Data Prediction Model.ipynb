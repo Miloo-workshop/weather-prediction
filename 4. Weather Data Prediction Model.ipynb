{
 "cells": [
  {
   "cell_type": "markdown",
   "metadata": {
    "id": "uf9tpQlC_REG"
   },
   "source": [
    "# Weather Data Prediction Model\n",
    "This is module of Miloo Bootcamp : BOOTCAMP CYCLING PREDICTION-ARTIFICIAL INTELLIGENCE.\n",
    "\n",
    "This module will give example of how to develop prediction model on weather data start from install and importing required library, transforming data, define model, train, evaluate model to get performance, and draw conclusion based on trained model.\n",
    "\n",
    "Please refer to this link for more info regarding the dataset : https://www.kaggle.com/selfishgene/historical-hourly-weather-data "
   ]
  },
  {
   "cell_type": "markdown",
   "metadata": {
    "id": "5yp4deKNnSQa"
   },
   "source": [
    "## 1. Import & Install Required Python Library\n",
    "In this module, we use : \n",
    "1. Pandas for data loading and transform\n",
    "2. Matplotlib to visualize data if necessary\n",
    "3. datetime to convert date data type to date and get specific day name, month name, etc.\n",
    "4. sweetviz to do simple statistics and visualization to data\n",
    "5. statsmodels to do statistical regression to understand the data\n",
    "6. sklearn and xgboost to do modeling, model evaluation, and prediction "
   ]
  },
  {
   "cell_type": "code",
   "execution_count": null,
   "metadata": {
    "colab": {
     "base_uri": "https://localhost:8080/"
    },
    "id": "ue7-ddnd9By6",
    "outputId": "3a8a5a1d-ce89-4cc8-ab8e-09f5074827cc"
   },
   "outputs": [],
   "source": [
    "!pip install sweetviz"
   ]
  },
  {
   "cell_type": "code",
   "execution_count": null,
   "metadata": {
    "id": "HEPx6IJKobP-"
   },
   "outputs": [],
   "source": [
    "import pandas as pd \n",
    "import matplotlib.pyplot as plt\n",
    "%matplotlib inline\n",
    "import datetime as dt\n",
    "import statsmodels.api as sm\n",
    "import seaborn as sns \n",
    "import numpy as np\n",
    "import sweetviz as sv\n",
    "\n",
    "from sklearn import preprocessing\n",
    "from sklearn.model_selection import train_test_split\n",
    "from sklearn import tree\n",
    "from sklearn.ensemble import RandomForestClassifier\n",
    "from sklearn.metrics import f1_score\n",
    "from sklearn.metrics import precision_recall_fscore_support\n",
    "from sklearn.metrics import confusion_matrix\n",
    "from xgboost import XGBClassifier\n",
    "# from IPython.core.display import display, HTML\n",
    "# display(HTML(\"<style>.container { width:100% !important; }</style>\"))"
   ]
  },
  {
   "cell_type": "markdown",
   "metadata": {
    "id": "vik6O6ICpqlW"
   },
   "source": [
    "## 2. Data Transformation \n",
    "in this section, we will transform raw data and merge them into one DataFrame to make it easier to process on further sections"
   ]
  },
  {
   "cell_type": "markdown",
   "metadata": {
    "id": "tdm_fwdUqj3p"
   },
   "source": [
    "### 2.1 Define Function to Transform Dataset"
   ]
  },
  {
   "cell_type": "code",
   "execution_count": null,
   "metadata": {
    "id": "yRQTyQLRobQJ"
   },
   "outputs": [],
   "source": [
    "def time_series_trans(dataset, look_back=1):\n",
    "  \"\"\"\n",
    "  Create windowing data\n",
    "  Input:\n",
    "        dataset -> dataframe\n",
    "        look_back ->\n",
    "  output:\n",
    "        result -> np.array type of data\n",
    "  \"\"\"\n",
    "  result = []\n",
    "  for i in range(len(dataset)-look_back-1):\n",
    "        a = dataset[i:(i+look_back)]\n",
    "        result.append(a)\n",
    "  return np.array(result)\n",
    "\n",
    "def get_one_sity(city, humidity, wind_speed, wind_dir, press, weat, temp):\n",
    "  \"\"\"\n",
    "  \n",
    "  \"\"\"    \n",
    "  # humidity\n",
    "  df_sample = pd.merge(humidity[[city,'day','hour','dayname']],weat[[city,'day','hour']],how='inner', left_on=['day','hour'],right_on=['day','hour'])\n",
    "  df_sample = df_sample.dropna()\n",
    "  df_sample.columns = ['humidity','day','hour','dayname','weather']\n",
    "\n",
    "  # temperature\n",
    "  df_sample = pd.merge(df_sample,temp[[city,'day','hour','dayname']],how='inner', left_on=['day','hour'],right_on=['day','hour'])\n",
    "  df_sample = df_sample.dropna()\n",
    "  df_sample.drop('dayname_y',inplace=True,axis=1)\n",
    "  df_sample.columns = ['humidity','day','hour','dayname','weather','temperature']\n",
    "  df_sample['temperature'] = df_sample['temperature']-273.15 # convert from kelvin to celcius \n",
    "\n",
    "  # pressure\n",
    "  df_sample = pd.merge(df_sample,press[[city,'day','hour','dayname']],how='inner', left_on=['day','hour'],right_on=['day','hour'])\n",
    "  df_sample = df_sample.dropna()\n",
    "  df_sample.drop('dayname_y',inplace=True,axis=1)\n",
    "  df_sample.columns = ['humidity','day','hour','dayname','weather','temperature','pressure']\n",
    "\n",
    "    # wind speed\n",
    "  df_sample = pd.merge(df_sample,wind_speed[[city,'day','hour','dayname']],how='inner', left_on=['day','hour'],right_on=['day','hour'])\n",
    "  df_sample = df_sample.dropna()\n",
    "  df_sample.drop('dayname_y',inplace=True,axis=1)\n",
    "  df_sample.columns = ['humidity','day','hour','dayname','weather','temperature','pressure', 'wind_speed']\n",
    "\n",
    "    # wind dir\n",
    "  df_sample = pd.merge(df_sample,wind_dir[[city,'day','hour','dayname']],how='inner', left_on=['day','hour'],right_on=['day','hour'])\n",
    "  df_sample = df_sample.dropna()\n",
    "  df_sample.drop('dayname_y',inplace=True,axis=1)\n",
    "  df_sample.columns = ['humidity','day','hour','dayname','weather','temperature','pressure', 'wind_speed','wind_dir']\n",
    "\n",
    "  # rearrange column\n",
    "  df_sample = df_sample[['day','hour','weather','dayname','humidity','temperature','pressure','wind_speed','wind_dir']]\n",
    "    \n",
    "    \n",
    "  # simplified weather \n",
    "  # change weather granularity\n",
    "\n",
    "  df_sample['weather2'] = df_weat.replace({city: dict_weather})[city]\n",
    "\n",
    "  return df_sample\n",
    "\n",
    "def expand_time(input_df,time_col):\n",
    "    input_df['datetime'] = pd.to_datetime(input_df[time_col])\n",
    "    input_df['year'] =  input_df['datetime'].dt.year\n",
    "    input_df['month'] =  input_df['datetime'].dt.year * 100 + input_df['datetime'].dt.month\n",
    "    input_df['day'] =  input_df['datetime'].dt.year * 10000 + input_df['datetime'].dt.month * 100 + input_df['datetime'].dt.day\n",
    "    input_df['hour'] =  input_df['datetime'].dt.hour\n",
    "    input_df['dayname'] = input_df['datetime'].apply(lambda x: dt.datetime.strftime(x, '%A'))\n",
    "    \n",
    "    return input_df"
   ]
  },
  {
   "cell_type": "markdown",
   "metadata": {
    "id": "fFolDXi3obQN"
   },
   "source": [
    "### 2.2 Read all CSV files\n",
    "in this sub-section, we download dataset from github and load it to jupyter notebook"
   ]
  },
  {
   "cell_type": "code",
   "execution_count": null,
   "metadata": {
    "colab": {
     "base_uri": "https://localhost:8080/"
    },
    "id": "tMPU75Oqm6Hl",
    "outputId": "16452766-602f-4f37-f8be-2a7eb68e261d"
   },
   "outputs": [],
   "source": [
    "!wget https://raw.githubusercontent.com/Miloo-workshop/weather-prediction/main/data_archive.zip"
   ]
  },
  {
   "cell_type": "code",
   "execution_count": null,
   "metadata": {
    "colab": {
     "base_uri": "https://localhost:8080/"
    },
    "id": "kGUvralJm63o",
    "outputId": "cca2f1bf-c9fa-46bb-9a8f-2811434edf07"
   },
   "outputs": [],
   "source": [
    "!unzip data_archive.zip"
   ]
  },
  {
   "cell_type": "code",
   "execution_count": null,
   "metadata": {
    "id": "eD2c6fyHobQP"
   },
   "outputs": [],
   "source": [
    "# read all files\n",
    "\n",
    "df_hum = pd.read_csv('archive/humidity.csv')\n",
    "df_wind_dir = pd.read_csv('archive/wind_direction.csv')\n",
    "df_wind_sp = pd.read_csv('archive/wind_speed.csv')\n",
    "df_pres = pd.read_csv('archive/pressure.csv')\n",
    "df_temp = pd.read_csv('archive/temperature.csv')\n",
    "df_weat = pd.read_csv('archive/weather_description.csv')\n",
    "df_city = pd.read_csv('archive/city_attributes.csv')\n",
    "df_weat_sim = pd.read_excel('archive/weather_category_simplified.xlsx')\n",
    "df_weat_sim.drop('count',axis=1,inplace=True)\n",
    "\n",
    "dict_weather = {}"
   ]
  },
  {
   "cell_type": "code",
   "execution_count": null,
   "metadata": {
    "id": "3TyrA0SVobQQ"
   },
   "outputs": [],
   "source": [
    "# convert to dict \n",
    "for index, row in df_weat_sim.iterrows():\n",
    "    dict_weather[row['weather']] = row['weather2']"
   ]
  },
  {
   "cell_type": "markdown",
   "metadata": {
    "id": "T4Zle3hSrAOx"
   },
   "source": [
    "### 2.3 Transform Data\n",
    "in this sub-section, we transform date data to various format. We will also use specifically for Miami data"
   ]
  },
  {
   "cell_type": "code",
   "execution_count": null,
   "metadata": {
    "id": "BAZmxekOobQR"
   },
   "outputs": [],
   "source": [
    "# expand time column\n",
    "df_hum = expand_time(df_hum,'datetime')\n",
    "df_wind_dir = expand_time(df_wind_dir,'datetime')\n",
    "df_wind_sp = expand_time(df_wind_sp,'datetime')\n",
    "df_pres = expand_time(df_pres,'datetime')\n",
    "df_weat = expand_time(df_weat,'datetime')\n",
    "df_temp = expand_time(df_temp,'datetime')"
   ]
  },
  {
   "cell_type": "code",
   "execution_count": null,
   "metadata": {
    "id": "GnKSoEtNobQR"
   },
   "outputs": [],
   "source": [
    "# select city \n",
    "df_miami = get_one_sity(city='Miami',humidity = df_hum, wind_speed = df_wind_sp, wind_dir = df_wind_dir, press = df_pres, weat = df_weat, temp = df_temp)"
   ]
  },
  {
   "cell_type": "code",
   "execution_count": null,
   "metadata": {
    "colab": {
     "base_uri": "https://localhost:8080/",
     "height": 202
    },
    "id": "OpqFobBtobQT",
    "outputId": "1932d8b5-e764-4cc3-f315-5da73dd353b9"
   },
   "outputs": [],
   "source": [
    "df_miami.head()"
   ]
  },
  {
   "cell_type": "code",
   "execution_count": null,
   "metadata": {
    "id": "4fVVcYhZYQ5G"
   },
   "outputs": [],
   "source": []
  },
  {
   "cell_type": "markdown",
   "metadata": {
    "id": "GkeiLty2sK9u"
   },
   "source": [
    "#### 2.3.1 Get only 24 hour Data"
   ]
  },
  {
   "cell_type": "code",
   "execution_count": null,
   "metadata": {
    "id": "GvpbMomYobQU"
   },
   "outputs": [],
   "source": [
    "# get the 24 hours \n",
    "df_miami_day = df_miami.groupby(['day']).agg({'hour':'count'}).reset_index()\n",
    "df_miami_day = df_miami_day[df_miami_day['hour'] == 24]\n",
    "df_miami2 = pd.merge(df_miami, df_miami_day, right_on=['day'],left_on=['day'],how='left')\n",
    "df_miami2 = df_miami2.drop(['hour_y'],axis=1)\n",
    "\n",
    "df_miami2 = df_miami2.dropna()"
   ]
  },
  {
   "cell_type": "code",
   "execution_count": null,
   "metadata": {
    "colab": {
     "base_uri": "https://localhost:8080/",
     "height": 202
    },
    "id": "eXd2Th7UobQV",
    "outputId": "7a92bfe0-5d38-4c32-c3d2-e04d962ee6f9"
   },
   "outputs": [],
   "source": [
    "df_miami2.head()"
   ]
  },
  {
   "cell_type": "code",
   "execution_count": null,
   "metadata": {
    "colab": {
     "base_uri": "https://localhost:8080/",
     "height": 385
    },
    "id": "CFgiQfhktfeW",
    "outputId": "ca6ec422-282e-424c-d0bb-912a5575e045"
   },
   "outputs": [],
   "source": [
    "df_miami2.describe(include='all')"
   ]
  },
  {
   "cell_type": "code",
   "execution_count": null,
   "metadata": {
    "id": "nnQLGaWpvTHe"
   },
   "outputs": [],
   "source": [
    "# !pip install pandas-profiling\n",
    "# import sys\n",
    "# !{sys.executable} -m pip install -U pandas-profiling[notebook]\n",
    "# !jupyter nbextension enable --py widgetsnbextension"
   ]
  },
  {
   "cell_type": "code",
   "execution_count": null,
   "metadata": {
    "id": "siATLco6uPVV"
   },
   "outputs": [],
   "source": [
    "# from pandas_profiling import ProfileReport"
   ]
  },
  {
   "cell_type": "code",
   "execution_count": null,
   "metadata": {
    "id": "bmIYEEJ5vYNC"
   },
   "outputs": [],
   "source": [
    "# profile = ProfileReport(df_miami2)\n",
    "# profile"
   ]
  },
  {
   "cell_type": "code",
   "execution_count": null,
   "metadata": {
    "id": "nOio_f6vwkHR"
   },
   "outputs": [],
   "source": [
    "# !pip freeze|grep pandas"
   ]
  },
  {
   "cell_type": "markdown",
   "metadata": {
    "id": "ABooEZ9d-AI2"
   },
   "source": [
    "### 2.4 Data Understanding\n",
    "In this sub-section we will explore statistical condition and visualize it with sweetviz  "
   ]
  },
  {
   "cell_type": "code",
   "execution_count": null,
   "metadata": {
    "colab": {
     "base_uri": "https://localhost:8080/",
     "height": 803,
     "referenced_widgets": [
      "2c694bad55a9430e9daa98514ba7bbdc",
      "02257d7bf9dc45029f058d42070ac54c",
      "d91808f7c4554519a84f4ca1509c23f5",
      "03c19242c6474512ac7a5d78dfab7972",
      "0f99cd7976ea406ea038cb9d6a5e29a4",
      "01aefa7fe0344b28b2a38c716fbd45f7",
      "e93549ebe79042eda1f4ccbde97b68bf",
      "eed96d03c73a447c821697761b4844de",
      "80b1943f47d5418abb9419dc7e38fce4",
      "8b4d8b8956794001b9e9f7260d939ca8",
      "d39988c815964ee5ab59042973830d51"
     ]
    },
    "id": "g18c6yAF5dPw",
    "outputId": "5a684a2d-11f4-4a36-e763-9ea928bf852d"
   },
   "outputs": [],
   "source": [
    "my_report = sv.analyze(df_miami2)\n",
    "my_report.show_notebook()"
   ]
  },
  {
   "cell_type": "code",
   "execution_count": null,
   "metadata": {
    "id": "BDp37CLW5dKu"
   },
   "outputs": [],
   "source": []
  },
  {
   "cell_type": "markdown",
   "metadata": {
    "id": "FnGvZOkXobQW"
   },
   "source": [
    "## 3. Feature Engineering \n",
    "in this section we will transform the feature and add feature based previously transformed data "
   ]
  },
  {
   "cell_type": "markdown",
   "metadata": {
    "id": "WVTRuL4ktOky"
   },
   "source": [
    "### 3.2 Encode Weather \n",
    "We encode the categorical weather into number as follows:\n",
    "1. cloudy = 0\n",
    "2. fog = 1\n",
    "3. rain = 2\n",
    "4. sunny = 3\n",
    "5. wind = 4"
   ]
  },
  {
   "cell_type": "code",
   "execution_count": null,
   "metadata": {
    "colab": {
     "base_uri": "https://localhost:8080/",
     "height": 202
    },
    "id": "Nf_sPv2kobQX",
    "outputId": "fcfd9c6c-c2de-4ea6-adf7-8c2040c575d4"
   },
   "outputs": [],
   "source": [
    "# encoding weather \n",
    "le = preprocessing.LabelEncoder()\n",
    "le.fit(df_miami2['weather2'])\n",
    "\n",
    "df_miami2['weather2_encode'] = le.fit_transform(df_miami2['weather2'])\n",
    "\n",
    "df_miami2.head()"
   ]
  },
  {
   "cell_type": "markdown",
   "metadata": {
    "id": "5AAYvYZZwHW8"
   },
   "source": [
    "### 3.3 Windowing Data \n",
    "to make prediction model, we will use 3-hour earlier on weather, temperature, humidity, and pressure condition as feature so we need to transforming data which will have format like this : \n",
    "\n",
    "temperature hour-3 **|** temperature hour-2 **|** temperature hour-1 **|** humidity hour-3 **|** humidity hour-2 **|** humidity hour-1 **|** pressure hour-3 **|** pressure hour-2 **|** pressure hour-1 **|** weather hour-3 **|** weather hour-2 **|** weather hour-1 **|** weather target"
   ]
  },
  {
   "cell_type": "code",
   "execution_count": null,
   "metadata": {
    "id": "5VwWhawoobQY"
   },
   "outputs": [],
   "source": [
    "# windowing\n",
    "df_mi_temp = pd.DataFrame(time_series_trans(df_miami2['temperature'],look_back=3))\n",
    "df_mi_temp = df_mi_temp.add_prefix('temp_')\n",
    "\n",
    "df_mi_hum = pd.DataFrame(time_series_trans(df_miami2['humidity'],look_back=3))\n",
    "df_mi_hum = df_mi_hum.add_prefix('hum_')\n",
    "\n",
    "df_mi_pres = pd.DataFrame(time_series_trans(df_miami2['pressure'],look_back=3))\n",
    "df_mi_pres = df_mi_pres.add_prefix('pres_')\n",
    "\n",
    "df_mi_ws = pd.DataFrame(time_series_trans(df_miami2['wind_speed'],look_back=3))\n",
    "df_mi_ws = df_mi_ws.add_prefix('ws_')\n",
    "\n",
    "df_mi_weat = pd.DataFrame(time_series_trans(df_miami2['weather2_encode'],look_back=4))\n",
    "df_mi_weat = df_mi_weat.add_prefix('weat_')"
   ]
  },
  {
   "cell_type": "code",
   "execution_count": null,
   "metadata": {
    "colab": {
     "base_uri": "https://localhost:8080/",
     "height": 202
    },
    "id": "0uENVnwJobQZ",
    "outputId": "e409b6b9-ceab-41f3-8b36-28f1eca5d762"
   },
   "outputs": [],
   "source": [
    "# collect all windowing\n",
    "df_train = pd.concat([df_mi_temp,df_mi_hum,df_mi_pres,df_mi_weat],axis=1)\n",
    "df_train = df_train.dropna()\n",
    "df_train.head()"
   ]
  },
  {
   "cell_type": "markdown",
   "metadata": {
    "id": "K1HJE5xeobQZ"
   },
   "source": [
    "## 4. Split Data and Pre-modeling \n",
    "In this section we will split data into 2 sets which will be used as training data and testing data. We also will explore data using simple statistical regression to find out more about dataset and its feature"
   ]
  },
  {
   "cell_type": "markdown",
   "metadata": {
    "id": "AJRVvTXsz0iN"
   },
   "source": [
    "### 4.1 Split Data into Training and Testing Data"
   ]
  },
  {
   "cell_type": "code",
   "execution_count": null,
   "metadata": {
    "id": "NnjdCt1NobQa"
   },
   "outputs": [],
   "source": [
    "# split train and test \n",
    "X_train, X_test, y_train, y_test = train_test_split(df_train.drop(['weat_3'],axis=1), df_train['weat_3'], test_size=0.3, random_state=42)\n",
    "# X_train, X_test, y_train, y_test = train_test_split(df_train.drop(['weat_3','weat_2','weat_1','weat_0'],axis=1), df_train['weat_3'], test_size=0.3, random_state=42)"
   ]
  },
  {
   "cell_type": "markdown",
   "metadata": {
    "id": "Gxaf5LaDz-pE"
   },
   "source": [
    "### 4.2 Pre-modeling\n",
    "this sub-section will explore data using statistical regression to describe each feature statistically"
   ]
  },
  {
   "cell_type": "code",
   "execution_count": null,
   "metadata": {
    "colab": {
     "base_uri": "https://localhost:8080/"
    },
    "id": "Xna3c9eqobQb",
    "outputId": "dc27fedd-72dd-4b78-fb85-70a395f75822"
   },
   "outputs": [],
   "source": [
    "# pre modelling \n",
    "\n",
    "model = sm.OLS(y_train, X_train)\n",
    "results = model.fit()\n",
    "print(results.summary())"
   ]
  },
  {
   "cell_type": "markdown",
   "metadata": {
    "id": "LX6aZeTSobQb"
   },
   "source": [
    "# 5. Predictive Modeling\n",
    "This section will show us example on how to make prediction model using Random Forest and XGBoost. We also will show visualization of Random Forest Tree Repesentation of model "
   ]
  },
  {
   "cell_type": "markdown",
   "metadata": {
    "id": "Q8asIxR1d9ZG"
   },
   "source": []
  },
  {
   "cell_type": "markdown",
   "metadata": {
    "id": "gzSyUJxud-xf"
   },
   "source": [
    "### 5.1 Decision Tree Modeling\n",
    "this sub-section will explore Decision Tree Modeling from training data to evaluating and visualize single tree"
   ]
  },
  {
   "cell_type": "markdown",
   "metadata": {
    "id": "jqjqy6-agZ2R"
   },
   "source": [
    "#### 5.1.1 Decision Tree Training"
   ]
  },
  {
   "cell_type": "code",
   "execution_count": null,
   "metadata": {
    "id": "0cRpNwE7Wg6s"
   },
   "outputs": [],
   "source": [
    "clf = tree.DecisionTreeClassifier()\n",
    "clf = clf.fit(X_train,y_train)"
   ]
  },
  {
   "cell_type": "markdown",
   "metadata": {
    "id": "vE2ht-acgo3O"
   },
   "source": [
    "#### 5.1.2 Visualize Decision Tree Model\n",
    "in this sub-section we will visualize trained Decision Tree model representated as single tree "
   ]
  },
  {
   "cell_type": "code",
   "execution_count": null,
   "metadata": {
    "colab": {
     "base_uri": "https://localhost:8080/",
     "height": 605
    },
    "id": "aVz5qW0NWgvw",
    "outputId": "50ee4cc1-dce9-4fe2-94fd-6c2551e7a145"
   },
   "outputs": [],
   "source": [
    "tree.plot_tree(clf,max_depth=2,fontsize=5) "
   ]
  },
  {
   "cell_type": "code",
   "execution_count": null,
   "metadata": {
    "id": "Y57UC2Noernx"
   },
   "outputs": [],
   "source": [
    "y_pred = clf.predict(X_test)"
   ]
  },
  {
   "cell_type": "markdown",
   "metadata": {
    "id": "eRIaZSfMgTRb"
   },
   "source": [
    "#### 5.1.3 Decision Tree Performance Measurement\n",
    "in this sub-section we will measure performance of Decision Tree models with F1-Score and show its confusion metrics"
   ]
  },
  {
   "cell_type": "code",
   "execution_count": null,
   "metadata": {
    "colab": {
     "base_uri": "https://localhost:8080/"
    },
    "id": "uZcJWItvekV3",
    "outputId": "f708e53e-da4a-4bcc-bbe8-f7ef754f1319"
   },
   "outputs": [],
   "source": [
    "# check peformance\n",
    "print('f1 score', (f1_score(y_test, y_pred,average='micro')))\n",
    "# precision_recall_fscore_support(y_pred, y_pred, average='micro')\n",
    "cm = confusion_matrix(y_test, y_pred)\n",
    "cm2 = pd.crosstab(y_test, y_pred, rownames=['True'], colnames=['Predicted'], margins=True)"
   ]
  },
  {
   "cell_type": "markdown",
   "metadata": {
    "id": "FxlNVnydhIhO"
   },
   "source": [
    "#### 5.1.4 Feature Importance\n",
    "This sub-section will show importance of each feature based on Decision Tree model"
   ]
  },
  {
   "cell_type": "code",
   "execution_count": null,
   "metadata": {
    "colab": {
     "base_uri": "https://localhost:8080/",
     "height": 416
    },
    "id": "YEVkw0YdYTYk",
    "outputId": "c76aaea7-9ae5-4d57-be73-e111870e5f5c"
   },
   "outputs": [],
   "source": [
    "df_feat_imp_tree = pd.DataFrame({'score':clf.feature_importances_, 'names' : X_train.columns})\n",
    "df_feat_imp_tree.sort_values('score',ascending=False)"
   ]
  },
  {
   "cell_type": "markdown",
   "metadata": {
    "id": "nJLSW9wi1orT"
   },
   "source": [
    "### 5.2 Random Forest Modeling\n",
    "this sub-section will explore Random Forest Modeling from training data to evaluating and visualize single tree"
   ]
  },
  {
   "cell_type": "markdown",
   "metadata": {
    "id": "F3aJed-D2RHr"
   },
   "source": [
    "#### 5.2.1 Random Forest Training"
   ]
  },
  {
   "cell_type": "code",
   "execution_count": null,
   "metadata": {
    "id": "vP7LGaRCobQb"
   },
   "outputs": [],
   "source": [
    "# fit into rf classifier\n",
    "rf = RandomForestClassifier(n_estimators=20,max_depth = 10,random_state=50)\n",
    "rf.fit(X_train,y_train)\n",
    "\n",
    "y_pred = rf.predict(X_test)"
   ]
  },
  {
   "cell_type": "markdown",
   "metadata": {
    "id": "XmmzA_8K1vYm"
   },
   "source": [
    "#### 5.2.2 Random Forest Performance Measurement\n",
    "in this sub-section we will measure performance of Random Forest models with F1-Score and show its confusion metrics"
   ]
  },
  {
   "cell_type": "code",
   "execution_count": null,
   "metadata": {
    "colab": {
     "base_uri": "https://localhost:8080/"
    },
    "id": "fbmeFKrVobQc",
    "outputId": "0fe42ee4-de9b-4890-ac8a-bd670e9e761d"
   },
   "outputs": [],
   "source": [
    "# check peformance\n",
    "print('f1 score', (f1_score(y_test, y_pred,average='micro')))\n",
    "# precision_recall_fscore_support(y_pred, y_pred, average='micro')\n",
    "cm = confusion_matrix(y_test, y_pred)\n",
    "cm2 = pd.crosstab(y_test, y_pred, rownames=['True'], colnames=['Predicted'], margins=True)"
   ]
  },
  {
   "cell_type": "code",
   "execution_count": null,
   "metadata": {
    "colab": {
     "base_uri": "https://localhost:8080/",
     "height": 232
    },
    "id": "D-eGIaExobQc",
    "outputId": "e1536be1-ce02-4265-f023-d862c98867ed"
   },
   "outputs": [],
   "source": [
    "cm2"
   ]
  },
  {
   "cell_type": "markdown",
   "metadata": {
    "id": "bgB00RZx2bYf"
   },
   "source": [
    "#### 5.2.3 Feature Importance\n",
    "This sub-section will show importance of each feature based on Random Forest model"
   ]
  },
  {
   "cell_type": "code",
   "execution_count": null,
   "metadata": {
    "colab": {
     "base_uri": "https://localhost:8080/"
    },
    "id": "2tRQPKAGobQd",
    "outputId": "e1d14d0d-2d37-4ae8-ea65-abbc91904747"
   },
   "outputs": [],
   "source": [
    "le.inverse_transform([0,1,2,3])"
   ]
  },
  {
   "cell_type": "code",
   "execution_count": null,
   "metadata": {
    "colab": {
     "base_uri": "https://localhost:8080/",
     "height": 416
    },
    "id": "6UgppohaobQd",
    "outputId": "058857e9-7646-4b41-c082-af9ea8b804a4"
   },
   "outputs": [],
   "source": [
    "# feature importance\n",
    "df_feat_imp = pd.DataFrame({'score':rf.feature_importances_, 'names' : X_train.columns})\n",
    "df_feat_imp.sort_values('score',ascending=False)"
   ]
  },
  {
   "cell_type": "markdown",
   "metadata": {
    "id": "Ud3VWuJF27l1"
   },
   "source": [
    "#### 5.2.4 Extract and Visualize Random Forest Tree\n",
    "in this sub-section we will visualize trained Random Forest model representated as single tree "
   ]
  },
  {
   "cell_type": "code",
   "execution_count": null,
   "metadata": {
    "colab": {
     "base_uri": "https://localhost:8080/",
     "height": 48
    },
    "id": "BKv953RxpzTL",
    "outputId": "f655b092-a026-4c40-b623-50d7b66c4ada"
   },
   "outputs": [],
   "source": [
    "# Extract single tree\n",
    "estimator = rf.estimators_[5]\n",
    "\n",
    "from sklearn.tree import export_graphviz\n",
    "# Export as dot file\n",
    "export_graphviz(estimator, out_file='tree.dot', \n",
    "                feature_names = None,\n",
    "                class_names = None,\n",
    "                rounded = True, proportion = False, \n",
    "                precision = 2, filled = True\n",
    "                )\n",
    "\n",
    "# Convert to png using system command (requires Graphviz)\n",
    "from subprocess import call\n",
    "call(['dot', '-Tpng', 'tree.dot', '-o', 'tree.png', '-Gdpi=600'])\n",
    "\n",
    "# Display in jupyter notebook\n",
    "from IPython.display import Image\n",
    "Image(filename = 'tree.png')"
   ]
  },
  {
   "cell_type": "code",
   "execution_count": null,
   "metadata": {
    "colab": {
     "base_uri": "https://localhost:8080/"
    },
    "id": "sCZJTjXuv50_",
    "outputId": "f8e4a7a1-7a4c-4de5-fa0f-a5835d77f007"
   },
   "outputs": [],
   "source": [
    "estimator"
   ]
  },
  {
   "cell_type": "markdown",
   "metadata": {
    "id": "lLL2XokW3j4N"
   },
   "source": [
    "### 5.3 XGBoost Modeling\n",
    "this sub-section will explore XGBoost Modeling from training data to evaluating and get feature importance"
   ]
  },
  {
   "cell_type": "markdown",
   "metadata": {
    "id": "_6J0fbBH5Old"
   },
   "source": [
    "#### 5.3.1 XGBoost Training"
   ]
  },
  {
   "cell_type": "code",
   "execution_count": null,
   "metadata": {
    "id": "GFgEs_iFobQd"
   },
   "outputs": [],
   "source": [
    "# fit into xgb classifier\n",
    "\n",
    "model = XGBClassifier(max_depth = 5,eta = 0.1, n_estimators=5, randomm_state = 50 )\n",
    "model.fit(X_train, y_train)\n",
    "\n",
    "y_pred_xgb = model.predict(X_test)"
   ]
  },
  {
   "cell_type": "code",
   "execution_count": null,
   "metadata": {
    "colab": {
     "base_uri": "https://localhost:8080/"
    },
    "id": "tf-20zT6obQe",
    "outputId": "12754365-5fb8-4826-cc66-53b98af5e25f"
   },
   "outputs": [],
   "source": [
    "model"
   ]
  },
  {
   "cell_type": "markdown",
   "metadata": {
    "id": "U_axJ8RA5ato"
   },
   "source": [
    "#### 5.3.2 XGBoost Performance Measurement\n",
    "same as Random Forest models earlier, we will measure XGBoost performance with F1-Score and show its confusion metrics"
   ]
  },
  {
   "cell_type": "code",
   "execution_count": null,
   "metadata": {
    "colab": {
     "base_uri": "https://localhost:8080/"
    },
    "id": "fnlKuJVmobQe",
    "outputId": "750ded21-e57f-4af0-d036-84cafe83e6ef"
   },
   "outputs": [],
   "source": [
    "# check peformance\n",
    "print('f1 score', (f1_score(y_test, y_pred_xgb,average='micro')))\n",
    "# precision_recall_fscore_support(y_pred, y_pred, average='micro')\n",
    "cm = confusion_matrix(y_test, y_pred_xgb)\n",
    "cm2 = pd.crosstab(y_test, y_pred_xgb, rownames=['True'], colnames=['Predicted'], margins=True)"
   ]
  },
  {
   "cell_type": "markdown",
   "metadata": {
    "id": "spZOfBBn5sVd"
   },
   "source": [
    "#### 5.3.3 Feature Importance\n",
    "This sub-section will show importance of each feature based on XGBoost model"
   ]
  },
  {
   "cell_type": "code",
   "execution_count": null,
   "metadata": {
    "colab": {
     "base_uri": "https://localhost:8080/",
     "height": 418
    },
    "id": "tVN7uX0tobQf",
    "outputId": "6aac89b6-5b0b-4663-9fde-02dbc49fddd9"
   },
   "outputs": [],
   "source": [
    "# feature importance\n",
    "df_feat_imp = pd.DataFrame({'score':model.feature_importances_, 'names' : X_train.columns})\n",
    "df_feat_imp.sort_values('score',ascending=False)"
   ]
  },
  {
   "cell_type": "markdown",
   "metadata": {
    "id": "A8_0nQRzobQf"
   },
   "source": [
    "## 6. Post-modeling \n",
    "This section will show example on how we make conclusion whether a person will cycling on certain weather condition or not. This conclusion will represent as probability of cycling"
   ]
  },
  {
   "cell_type": "code",
   "execution_count": null,
   "metadata": {
    "colab": {
     "base_uri": "https://localhost:8080/"
    },
    "id": "zqAF5dRNobQf",
    "outputId": "198d2230-b6d2-4234-bc56-c53580488573"
   },
   "outputs": [],
   "source": [
    "idx = 20984 \n",
    "\n",
    "# input feature\n",
    "tes_pred = list(X_test.loc[idx])\n",
    "\n",
    "# survey input \n",
    "# survey_input =  np.array([0.4, 0.3, 0.1, 0.15, 0.05 ])\n",
    "survey_input =  np.array([0.76, 0.76, 0.8, 0.15, 0.05 ])\n",
    "\n",
    "# output model x survey\n",
    "# print ('bike percentage : ', le.classes_[np.argmax(np.multiply(rf.predict_proba(np.reshape(tes_pred,(1,-1)))[0], survey_input))], np.max(np.multiply(rf.predict_proba(np.reshape(tes_pred,(1,-1)))[0], survey_input)))\n",
    "\n",
    "print('actual :', y_test[idx])\n",
    "print ('bike percenteage : ', le.classes_[np.argmax(np.multiply(rf.predict_proba(np.reshape(tes_pred,(1,-1)))[0], survey_input))], np.max(np.multiply(rf.predict_proba(np.reshape(tes_pred,(1,-1))), survey_input)/ np.sum(np.multiply(rf.predict_proba(np.reshape(tes_pred,(1,-1))), survey_input))))"
   ]
  },
  {
   "cell_type": "code",
   "execution_count": null,
   "metadata": {
    "id": "ILHmm8avobQg"
   },
   "outputs": [],
   "source": [
    "# bulk post modeling \n",
    "X_proba = pd.DataFrame(rf.predict_proba(X_test))\n",
    "X_proba['proba']= X_proba.values.tolist()\n",
    "X_proba['proba_index'] = X_proba.apply(lambda x:np.argmax(np.multiply(np.array(x['proba']),survey_input)),axis=1)\n",
    "X_proba['proba_max'] = X_proba.apply(lambda x:np.max(np.multiply(np.array(x['proba']),survey_input)),axis=1)\n",
    "X_proba['proba_all'] = X_proba.apply(lambda x:np.sum(np.multiply(np.array(x['proba']),survey_input)),axis=1)\n",
    "X_proba['proba_bike'] = X_proba['proba_max']/X_proba['proba_all']\n",
    "X_proba['pred_weather'] = X_proba['proba_index'].apply(lambda x:le.classes_[int(x)])\n",
    "# X_proba['actual'] = pd.DataFrame(y_test).reset_index().drop('index',axis=1)"
   ]
  },
  {
   "cell_type": "code",
   "execution_count": null,
   "metadata": {
    "colab": {
     "base_uri": "https://localhost:8080/",
     "height": 417
    },
    "id": "aMh2GnioobQg",
    "outputId": "e09483d4-4319-4e23-9061-bbae8a537415"
   },
   "outputs": [],
   "source": [
    "X_proba"
   ]
  },
  {
   "cell_type": "code",
   "execution_count": null,
   "metadata": {
    "id": "2WZK18n3obQg"
   },
   "outputs": [],
   "source": []
  }
 ],
 "metadata": {
  "colab": {
   "collapsed_sections": [],
   "name": "2_Pred_model.ipynb",
   "provenance": []
  },
  "kernelspec": {
   "display_name": "Python 3",
   "language": "python",
   "name": "python3"
  },
  "language_info": {
   "codemirror_mode": {
    "name": "ipython",
    "version": 3
   },
   "file_extension": ".py",
   "mimetype": "text/x-python",
   "name": "python",
   "nbconvert_exporter": "python",
   "pygments_lexer": "ipython3",
   "version": "3.8.3"
  },
  "widgets": {
   "application/vnd.jupyter.widget-state+json": {
    "01aefa7fe0344b28b2a38c716fbd45f7": {
     "model_module": "@jupyter-widgets/controls",
     "model_module_version": "1.5.0",
     "model_name": "DescriptionStyleModel",
     "state": {
      "_model_module": "@jupyter-widgets/controls",
      "_model_module_version": "1.5.0",
      "_model_name": "DescriptionStyleModel",
      "_view_count": null,
      "_view_module": "@jupyter-widgets/base",
      "_view_module_version": "1.2.0",
      "_view_name": "StyleView",
      "description_width": ""
     }
    },
    "02257d7bf9dc45029f058d42070ac54c": {
     "model_module": "@jupyter-widgets/base",
     "model_module_version": "1.2.0",
     "model_name": "LayoutModel",
     "state": {
      "_model_module": "@jupyter-widgets/base",
      "_model_module_version": "1.2.0",
      "_model_name": "LayoutModel",
      "_view_count": null,
      "_view_module": "@jupyter-widgets/base",
      "_view_module_version": "1.2.0",
      "_view_name": "LayoutView",
      "align_content": null,
      "align_items": null,
      "align_self": null,
      "border": null,
      "bottom": null,
      "display": "inline-flex",
      "flex": null,
      "flex_flow": "row wrap",
      "grid_area": null,
      "grid_auto_columns": null,
      "grid_auto_flow": null,
      "grid_auto_rows": null,
      "grid_column": null,
      "grid_gap": null,
      "grid_row": null,
      "grid_template_areas": null,
      "grid_template_columns": null,
      "grid_template_rows": null,
      "height": null,
      "justify_content": null,
      "justify_items": null,
      "left": null,
      "margin": null,
      "max_height": null,
      "max_width": null,
      "min_height": null,
      "min_width": null,
      "object_fit": null,
      "object_position": null,
      "order": null,
      "overflow": null,
      "overflow_x": null,
      "overflow_y": null,
      "padding": null,
      "right": null,
      "top": null,
      "visibility": null,
      "width": "100%"
     }
    },
    "03c19242c6474512ac7a5d78dfab7972": {
     "model_module": "@jupyter-widgets/controls",
     "model_module_version": "1.5.0",
     "model_name": "FloatProgressModel",
     "state": {
      "_dom_classes": [],
      "_model_module": "@jupyter-widgets/controls",
      "_model_module_version": "1.5.0",
      "_model_name": "FloatProgressModel",
      "_view_count": null,
      "_view_module": "@jupyter-widgets/controls",
      "_view_module_version": "1.5.0",
      "_view_name": "ProgressView",
      "bar_style": "success",
      "description": "",
      "description_tooltip": null,
      "layout": "IPY_MODEL_80b1943f47d5418abb9419dc7e38fce4",
      "max": 1,
      "min": 0,
      "orientation": "horizontal",
      "style": "IPY_MODEL_eed96d03c73a447c821697761b4844de",
      "value": 1
     }
    },
    "0f99cd7976ea406ea038cb9d6a5e29a4": {
     "model_module": "@jupyter-widgets/controls",
     "model_module_version": "1.5.0",
     "model_name": "HTMLModel",
     "state": {
      "_dom_classes": [],
      "_model_module": "@jupyter-widgets/controls",
      "_model_module_version": "1.5.0",
      "_model_name": "HTMLModel",
      "_view_count": null,
      "_view_module": "@jupyter-widgets/controls",
      "_view_module_version": "1.5.0",
      "_view_name": "HTMLView",
      "description": "",
      "description_tooltip": null,
      "layout": "IPY_MODEL_d39988c815964ee5ab59042973830d51",
      "placeholder": "​",
      "style": "IPY_MODEL_8b4d8b8956794001b9e9f7260d939ca8",
      "value": " [100%]   00:00 -&gt; (00:00 left)"
     }
    },
    "2c694bad55a9430e9daa98514ba7bbdc": {
     "model_module": "@jupyter-widgets/controls",
     "model_module_version": "1.5.0",
     "model_name": "HBoxModel",
     "state": {
      "_dom_classes": [],
      "_model_module": "@jupyter-widgets/controls",
      "_model_module_version": "1.5.0",
      "_model_name": "HBoxModel",
      "_view_count": null,
      "_view_module": "@jupyter-widgets/controls",
      "_view_module_version": "1.5.0",
      "_view_name": "HBoxView",
      "box_style": "",
      "children": [
       "IPY_MODEL_d91808f7c4554519a84f4ca1509c23f5",
       "IPY_MODEL_03c19242c6474512ac7a5d78dfab7972",
       "IPY_MODEL_0f99cd7976ea406ea038cb9d6a5e29a4"
      ],
      "layout": "IPY_MODEL_02257d7bf9dc45029f058d42070ac54c"
     }
    },
    "80b1943f47d5418abb9419dc7e38fce4": {
     "model_module": "@jupyter-widgets/base",
     "model_module_version": "1.2.0",
     "model_name": "LayoutModel",
     "state": {
      "_model_module": "@jupyter-widgets/base",
      "_model_module_version": "1.2.0",
      "_model_name": "LayoutModel",
      "_view_count": null,
      "_view_module": "@jupyter-widgets/base",
      "_view_module_version": "1.2.0",
      "_view_name": "LayoutView",
      "align_content": null,
      "align_items": null,
      "align_self": null,
      "border": null,
      "bottom": null,
      "display": null,
      "flex": "2",
      "flex_flow": null,
      "grid_area": null,
      "grid_auto_columns": null,
      "grid_auto_flow": null,
      "grid_auto_rows": null,
      "grid_column": null,
      "grid_gap": null,
      "grid_row": null,
      "grid_template_areas": null,
      "grid_template_columns": null,
      "grid_template_rows": null,
      "height": null,
      "justify_content": null,
      "justify_items": null,
      "left": null,
      "margin": null,
      "max_height": null,
      "max_width": null,
      "min_height": null,
      "min_width": null,
      "object_fit": null,
      "object_position": null,
      "order": null,
      "overflow": null,
      "overflow_x": null,
      "overflow_y": null,
      "padding": null,
      "right": null,
      "top": null,
      "visibility": null,
      "width": null
     }
    },
    "8b4d8b8956794001b9e9f7260d939ca8": {
     "model_module": "@jupyter-widgets/controls",
     "model_module_version": "1.5.0",
     "model_name": "DescriptionStyleModel",
     "state": {
      "_model_module": "@jupyter-widgets/controls",
      "_model_module_version": "1.5.0",
      "_model_name": "DescriptionStyleModel",
      "_view_count": null,
      "_view_module": "@jupyter-widgets/base",
      "_view_module_version": "1.2.0",
      "_view_name": "StyleView",
      "description_width": ""
     }
    },
    "d39988c815964ee5ab59042973830d51": {
     "model_module": "@jupyter-widgets/base",
     "model_module_version": "1.2.0",
     "model_name": "LayoutModel",
     "state": {
      "_model_module": "@jupyter-widgets/base",
      "_model_module_version": "1.2.0",
      "_model_name": "LayoutModel",
      "_view_count": null,
      "_view_module": "@jupyter-widgets/base",
      "_view_module_version": "1.2.0",
      "_view_name": "LayoutView",
      "align_content": null,
      "align_items": null,
      "align_self": null,
      "border": null,
      "bottom": null,
      "display": null,
      "flex": null,
      "flex_flow": null,
      "grid_area": null,
      "grid_auto_columns": null,
      "grid_auto_flow": null,
      "grid_auto_rows": null,
      "grid_column": null,
      "grid_gap": null,
      "grid_row": null,
      "grid_template_areas": null,
      "grid_template_columns": null,
      "grid_template_rows": null,
      "height": null,
      "justify_content": null,
      "justify_items": null,
      "left": null,
      "margin": null,
      "max_height": null,
      "max_width": null,
      "min_height": null,
      "min_width": null,
      "object_fit": null,
      "object_position": null,
      "order": null,
      "overflow": null,
      "overflow_x": null,
      "overflow_y": null,
      "padding": null,
      "right": null,
      "top": null,
      "visibility": null,
      "width": null
     }
    },
    "d91808f7c4554519a84f4ca1509c23f5": {
     "model_module": "@jupyter-widgets/controls",
     "model_module_version": "1.5.0",
     "model_name": "HTMLModel",
     "state": {
      "_dom_classes": [],
      "_model_module": "@jupyter-widgets/controls",
      "_model_module_version": "1.5.0",
      "_model_name": "HTMLModel",
      "_view_count": null,
      "_view_module": "@jupyter-widgets/controls",
      "_view_module_version": "1.5.0",
      "_view_name": "HTMLView",
      "description": "",
      "description_tooltip": null,
      "layout": "IPY_MODEL_e93549ebe79042eda1f4ccbde97b68bf",
      "placeholder": "​",
      "style": "IPY_MODEL_01aefa7fe0344b28b2a38c716fbd45f7",
      "value": "Done! Use &#x27;show&#x27; commands to display/save.   "
     }
    },
    "e93549ebe79042eda1f4ccbde97b68bf": {
     "model_module": "@jupyter-widgets/base",
     "model_module_version": "1.2.0",
     "model_name": "LayoutModel",
     "state": {
      "_model_module": "@jupyter-widgets/base",
      "_model_module_version": "1.2.0",
      "_model_name": "LayoutModel",
      "_view_count": null,
      "_view_module": "@jupyter-widgets/base",
      "_view_module_version": "1.2.0",
      "_view_name": "LayoutView",
      "align_content": null,
      "align_items": null,
      "align_self": null,
      "border": null,
      "bottom": null,
      "display": null,
      "flex": null,
      "flex_flow": null,
      "grid_area": null,
      "grid_auto_columns": null,
      "grid_auto_flow": null,
      "grid_auto_rows": null,
      "grid_column": null,
      "grid_gap": null,
      "grid_row": null,
      "grid_template_areas": null,
      "grid_template_columns": null,
      "grid_template_rows": null,
      "height": null,
      "justify_content": null,
      "justify_items": null,
      "left": null,
      "margin": null,
      "max_height": null,
      "max_width": null,
      "min_height": null,
      "min_width": null,
      "object_fit": null,
      "object_position": null,
      "order": null,
      "overflow": null,
      "overflow_x": null,
      "overflow_y": null,
      "padding": null,
      "right": null,
      "top": null,
      "visibility": null,
      "width": null
     }
    },
    "eed96d03c73a447c821697761b4844de": {
     "model_module": "@jupyter-widgets/controls",
     "model_module_version": "1.5.0",
     "model_name": "ProgressStyleModel",
     "state": {
      "_model_module": "@jupyter-widgets/controls",
      "_model_module_version": "1.5.0",
      "_model_name": "ProgressStyleModel",
      "_view_count": null,
      "_view_module": "@jupyter-widgets/base",
      "_view_module_version": "1.2.0",
      "_view_name": "StyleView",
      "bar_color": null,
      "description_width": ""
     }
    }
   }
  }
 },
 "nbformat": 4,
 "nbformat_minor": 1
}
